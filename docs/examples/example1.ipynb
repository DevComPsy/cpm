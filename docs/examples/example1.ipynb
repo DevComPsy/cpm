{
 "cells": [
  {
   "cell_type": "markdown",
   "metadata": {},
   "source": [
    "# Example 1: An associative learning model and blocking"
   ]
  },
  {
   "cell_type": "markdown",
   "metadata": {},
   "source": [
    "This is a beginner's walkthrough of an associative learning model and the blocking effect. The model is an instance of the Rescorla-Wagner learning rule (Rescorla and Wagner, 1972), which is a simple and widely used model of associative learning. The blocking effect (Kamin, 1961) is a well-known phenomenon in the psychology of learning, and it was the original target phenomena for the Rescorla-Wagner model."
   ]
  },
  {
   "cell_type": "markdown",
   "metadata": {},
   "source": [
    "## The Blocking Effect\n",
    "\n",
    "The blocking effect (Kamin, 1961) is a type of cue competition when learning about one cue is restricted in the presence of another cue that was trained separately.\n",
    "In a simple example, consider a rat that has been trained to associate light (A) with food (+). and subsequently encounters the compound of light and sound (AB) with food (+). Under these conditions, learning about B is restricted.\n",
    "In humans, learning (in associative or contingency learning experiments) is often measured by asking them to rate the likelihood of an outcome (e.g., food) given a cue (e.g., light).\n",
    "Participants rate blocked cues (B) as less likely to result in an outcome than a control cue (e.g. X following Y- and XY+ training).\n",
    "This is the blocking effect.\n",
    "\n",
    "In this tutorial, we will use the toolbox to fit the Bush and Mosteller (1951) separable error term and the Rescorla-Wagner (1972) summed-error term to data from a blocking experiment.\n",
    "It is a partial recreation of Spicer et al. (2021)."
   ]
  },
  {
   "cell_type": "markdown",
   "metadata": {},
   "source": [
    "## Importing the data and getting it ready for the toolbox"
   ]
  },
  {
   "cell_type": "code",
   "execution_count": null,
   "metadata": {},
   "outputs": [],
   "source": [
    "import pandas as pd\n",
    "import numpy as np"
   ]
  },
  {
   "cell_type": "markdown",
   "metadata": {},
   "source": [
    "## Defining our two models\n",
    "\n",
    "Here we will look at one bad model and one good model of blocking."
   ]
  },
  {
   "cell_type": "markdown",
   "metadata": {},
   "source": [
    "### The Bush and Mosteller (1951) rule\n",
    "\n",
    "\n",
    "$$\n",
    "\\Delta V_i = \\alpha \\beta_{v} (R - V_i)\n",
    "$$"
   ]
  },
  {
   "cell_type": "markdown",
   "metadata": {},
   "source": [
    "### The Rescorla-Wagner rule\n",
    "\n",
    "$$\n",
    "\\Delta V_i = \\alpha \\beta_{i} (R - \\sum_{i=0} ^{k} V)\n",
    "$$"
   ]
  },
  {
   "cell_type": "code",
   "execution_count": 3,
   "metadata": {},
   "outputs": [],
   "source": [
    "from cpm.models import learning, utils\n",
    "from cpm.generators import Parameters, Wrapper, Simulator\n",
    "\n",
    "parameters = Parameters(alpha = 0.1, values = np.array([0, 0, 0, 0]))"
   ]
  },
  {
   "cell_type": "markdown",
   "metadata": {},
   "source": []
  },
  {
   "cell_type": "code",
   "execution_count": null,
   "metadata": {},
   "outputs": [],
   "source": [
    "input = {\n",
    "    \"trials\": np.array([3, 4]),\n",
    "    \"feedback\": np.array([1]),\n",
    "}"
   ]
  },
  {
   "cell_type": "code",
   "execution_count": null,
   "metadata": {},
   "outputs": [],
   "source": [
    "def bush_and_mosteller(parameters, input):\n",
    "    stimulus = input.get(\"trials\").copy()\n",
    "    stimulus = utils.Nominal(target = stimulus, bits = 4)\n",
    "    feedback = input.get(\"feedback\").copy()\n",
    "    \n",
    "    activations = stimulus * parameters.values\n",
    "    policy = activations.sum(axis = 1)\n",
    "    error = learning.SeparableRule(weights=activations, feedback=feedback, alpha=parameters.alpha)\n",
    "    parameters.values += error\n",
    "    output = {\n",
    "        \"parameters\": parameters,\n",
    "        \"activations\": activations,\n",
    "        \"policy\": policy,\n",
    "        \"error\": error,\n",
    "        \"dependent\": policy,\n",
    "    }\n",
    "    return output"
   ]
  }
 ],
 "metadata": {
  "kernelspec": {
   "display_name": "Python 3",
   "language": "python",
   "name": "python3"
  },
  "language_info": {
   "codemirror_mode": {
    "name": "ipython",
    "version": 3
   },
   "file_extension": ".py",
   "mimetype": "text/x-python",
   "name": "python",
   "nbconvert_exporter": "python",
   "pygments_lexer": "ipython3",
   "version": "3.11.6"
  }
 },
 "nbformat": 4,
 "nbformat_minor": 2
}
