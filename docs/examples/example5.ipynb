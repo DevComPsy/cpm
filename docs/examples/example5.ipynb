{
 "cells": [
  {
   "cell_type": "code",
   "execution_count": null,
   "id": "169e8b52",
   "metadata": {},
   "outputs": [],
   "source": [
    "import cpm\n",
    "version = cpm.__version__\n",
    "if version < \"0.18.5\":\n",
    "    raise Exception(\"cpm version is too old, please update to 0.18.5 or later\")\n",
    "else:\n",
    "    print(f\"cpm version is up to date\\nversion: {version}\\nauthor: {cpm.__author__}\")\n"
   ]
  },
  {
   "cell_type": "code",
   "execution_count": null,
   "id": "4d414e67",
   "metadata": {},
   "outputs": [],
   "source": [
    "data_pt = pd.read_csv(\"scavenger_data_python.csv\")\n",
    "## subset data so we can debug\n",
    "data_pt = data_pt[data_pt[\"ppt\"] == 1]\n",
    "# Rename columns to match expectations:\n",
    "# reward_1 = safe_magn, reward_2 = risky_magn, loopID -> ppt, choice -> observed\n",
    "data_pt.rename(columns={\"reward_1\": \"safe_magn\", \n",
    "                        \"reward_2\": \"risky_magn\", \n",
    "                        \"loopID\": \"ppt\", \n",
    "                        \"choice\": \"observed\"}, inplace=True)\n",
    "\n",
    "print(\"Data head:\")\n",
    "print(data_pt.head())\n"
   ]
  },
  {
   "cell_type": "code",
   "execution_count": null,
   "id": "b0158085",
   "metadata": {},
   "outputs": [],
   "source": [
    "# Order: [alpha, lambda_loss, gamma, temperature]\n",
    "parameters_settings = [\n",
    "    [3.0, 0.0, 5.0],   # alpha: starting value 3.0\n",
    "    [2.0, 0.0, 5.0],   # lambda_loss: starting value 2.0\n",
    "    [0.5, 0.0, 0.5],   # gamma: starting value 0.5\n",
    "    [2.0, 0.1, 15.0]   # temperature: starting value 2.0\n",
    "]\n"
   ]
  },
  {
   "cell_type": "code",
   "execution_count": null,
   "id": "78987e4e",
   "metadata": {},
   "outputs": [],
   "source": [
    "unique_ppts = data_pt[\"ppt\"].unique()[:2]\n",
    "print(\"Testing for participants:\", unique_ppts)\n",
    "\n",
    "# Define a list of weighting functions to test.\n",
    "weighting_functions = [\"tk\", \"power\", \"prelec\", \"gw\"]\n",
    "\n",
    "# Dictionaries to store simulation and optimization results.\n",
    "simulation_results = {}\n",
    "optimization_results = {}\n"
   ]
  },
  {
   "cell_type": "code",
   "execution_count": null,
   "id": "8d375738",
   "metadata": {},
   "outputs": [],
   "source": [
    "import copy\n",
    "from cpm.optimisation import minimise, FminBound\n",
    "\n",
    "for wf in weighting_functions:\n",
    "    simulation_results[wf] = {}\n",
    "    optimization_results[wf] = {}\n",
    "    print(\"\\n==========================\")\n",
    "    print(f\"Testing weighting function: {wf}\")\n",
    "    print(\"==========================\")\n",
    "    \n",
    "    print(f\"\\n-- Weighting: {wf}, Participant: {ppt} --\")\n",
    "    ppt_data = data_pt[data_pt[\"ppt\"] == 1].copy()\n",
    "    # Instantiate the prospect theory model for simulation\n",
    "    import Prospect_theory_wrapper_ben\n",
    "    pt_model = Prospect_theory_wrapper_ben.ProspectSoftmaxModel(\n",
    "        data=ppt_data,\n",
    "        parameters_settings=parameters_settings,\n",
    "        generate=False,\n",
    "        mode=\"safe_risky\",\n",
    "        weighting=wf\n",
    "    )\n",
    "    pt_model.run()\n",
    "    output = pt_model.export()\n",
    "\n",
    "    print(f\"Simulation output (first 10 rows) for weighting '{wf}':\")\n",
    "    print(output.head(10))\n",
    "    \n",
    "    # Now, for optimization, make a deep copy of the model instance.\n",
    "    model_for_opt = copy.deepcopy(pt_model)\n",
    "    grouped_data = data_pt.groupby(\"ppt\")\n",
    "    \n",
    "    fit = FminBound(\n",
    "        model=model_for_opt, \n",
    "        data=grouped_data,\n",
    "        minimisation=minimise.LogLikelihood.bernoulli,\n",
    "        parallel=True,\n",
    "        libraries=[\"numpy\", \"cpm\", \"pandas\"],\n",
    "        cl=5,\n",
    "        prior=False,\n",
    "        ppt_identifier=\"ppt\",\n",
    "        display=False,\n",
    "        number_of_starts=5,\n",
    "        approx_grad=True\n",
    "    )\n",
    "    \n",
    "    try:\n",
    "        fit.optimise()\n",
    "        opt_result = fit.export()\n",
    "    except Exception as e:\n",
    "        print(f\"Error during optimization for weighting {wf}\")\n",
    "        opt_result = None\n",
    "\n",
    "    optimization_results[wf] = opt_result\n"
   ]
  },
  {
   "cell_type": "code",
   "execution_count": null,
   "id": "252226c7",
   "metadata": {},
   "outputs": [],
   "source": [
    "\n",
    "#this one here does not work.\n",
    "from cpm.generators import Simulator\n",
    "\n",
    "# If your optimization was run on data grouped by 'ppt' for all participants:\n",
    "simulator = Simulator(\n",
    "    wrapper=pt_model,         # your prospect theory model instance\n",
    "    parameters=fit.parameters,  # parameter sets for all participants\n",
    "    data= grouped_data  # group by 'ppt' so that the number of groups matches\n",
    ")"
   ]
  }
 ],
 "metadata": {
  "kernelspec": {
   "display_name": "cpm-dev-signal",
   "language": "python",
   "name": "python3"
  },
  "language_info": {
   "name": "python",
   "version": "3.12.4"
  }
 },
 "nbformat": 4,
 "nbformat_minor": 5
}
