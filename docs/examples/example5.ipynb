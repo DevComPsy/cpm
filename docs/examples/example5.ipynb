{
 "cells": [
  {
   "cell_type": "code",
   "execution_count": null,
   "metadata": {},
   "outputs": [],
   "source": [
    "import numpy as np\n",
    "import pandas as pd\n",
    "import matplotlib.pyplot as plt\n",
    "import matplotlib.patches as patches\n",
    "\n",
    "import cpm.applications.signal_detection as sdt\n",
    "from cpm.optimisation.minimise import LogLikelihood"
   ]
  },
  {
   "cell_type": "code",
   "execution_count": null,
   "metadata": {},
   "outputs": [],
   "source": [
    "data = pd.read_csv(\"metacognition_small.csv\")\n",
    "data[\"observed\"] = data[\"confidence\"]\n",
    "data = data[data.subject.isin(data.subject.unique()[0:10])]\n",
    "data.columns"
   ]
  },
  {
   "cell_type": "code",
   "execution_count": null,
   "metadata": {},
   "outputs": [],
   "source": [
    "data.subject.unique()"
   ]
  },
  {
   "cell_type": "code",
   "execution_count": null,
   "metadata": {},
   "outputs": [],
   "source": [
    "participant = data[data.subject == 'fcf1e4bf9cc9c1083647b91463e86f49c6961406c37055c7eb8ad13937a519db']\n",
    "participant.head()"
   ]
  },
  {
   "cell_type": "code",
   "execution_count": null,
   "metadata": {},
   "outputs": [],
   "source": [
    "metal = sdt.MetaD(data = participant, dimensions=2, bins=4)\n",
    "metal.run()\n",
    "metal.export()"
   ]
  },
  {
   "cell_type": "code",
   "execution_count": null,
   "metadata": {},
   "outputs": [],
   "source": [
    "x = np.zeros((3,7))\n",
    "x[2, 4:8]"
   ]
  },
  {
   "cell_type": "code",
   "execution_count": null,
   "metadata": {},
   "outputs": [],
   "source": [
    "data.ppt.isin(('fcf1e4bf9cc9c1083647b91463e86f49c6961406c37055c7eb8ad13937a519db', '3de8392541ace28284aca7f2724273739fcf4cf73de276a8ddd3547c0011323c'))"
   ]
  },
  {
   "cell_type": "code",
   "execution_count": null,
   "metadata": {},
   "outputs": [],
   "source": [
    "subset = data[data.subject.isin(('fcf1e4bf9cc9c1083647b91463e86f49c6961406c37055c7eb8ad13937a519db', '3de8392541ace28284aca7f2724273739fcf4cf73de276a8ddd3547c0011323c'))]\n",
    "print(subset)\n",
    "optim = sdt.EstimatorMetaD(\n",
    "    model=metal,\n",
    "    data = subset.groupby(\"subject\"),\n",
    "    minimisation=LogLikelihood.product,\n",
    "    parallel=False,\n",
    "    ppt_identifier=\"ppt\",\n",
    "    number_of_starts=5,\n",
    "    jac=\"2-point\",\n",
    "    method=\"trust-constr\",\n",
    "    constraints=[metal.constraints],\n",
    ")"
   ]
  },
  {
   "cell_type": "code",
   "execution_count": null,
   "metadata": {},
   "outputs": [],
   "source": [
    "## disable numpy warnings\n",
    "import warnings\n",
    "warnings.filterwarnings(\"ignore\", category=RuntimeWarning)\n",
    "optim.optimise()"
   ]
  },
  {
   "cell_type": "code",
   "execution_count": null,
   "metadata": {},
   "outputs": [],
   "source": [
    "optim_results = optim.export().round(3)"
   ]
  },
  {
   "cell_type": "code",
   "execution_count": null,
   "metadata": {},
   "outputs": [],
   "source": [
    "old = pd.read_csv(\"SpaceObserver_summary_merged.csv\")"
   ]
  },
  {
   "cell_type": "markdown",
   "metadata": {},
   "source": [
    "Now, I will do some comparisons here."
   ]
  },
  {
   "cell_type": "code",
   "execution_count": null,
   "metadata": {},
   "outputs": [],
   "source": [
    "import metadpy\n",
    "ppt = data[data.subject == 'fcf1e4bf9cc9c1083647b91463e86f49c6961406c37055c7eb8ad13937a519db']\n",
    "ppt.confidence *= 100\n",
    "output = metadpy.metad(\n",
    "    data=ppt,\n",
    "    nRatings=100,\n",
    "    stimuli=\"stimulus\",\n",
    "    accuracy=\"response\",\n",
    "    confidence=\"confidence\",\n",
    ")"
   ]
  },
  {
   "cell_type": "code",
   "execution_count": null,
   "metadata": {},
   "outputs": [],
   "source": [
    "output"
   ]
  },
  {
   "cell_type": "code",
   "execution_count": null,
   "metadata": {},
   "outputs": [],
   "source": [
    "old[old.user_id == 'fcf1e4bf9cc9c1083647b91463e86f49c6961406c37055c7eb8ad13937a519db']"
   ]
  },
  {
   "cell_type": "code",
   "execution_count": null,
   "metadata": {},
   "outputs": [],
   "source": [
    "optim_results[optim_results.ppt_0 == 'fcf1e4bf9cc9c1083647b91463e86f49c6961406c37055c7eb8ad13937a519db']"
   ]
  },
  {
   "cell_type": "code",
   "execution_count": null,
   "metadata": {},
   "outputs": [],
   "source": [
    "metal.export()"
   ]
  },
  {
   "cell_type": "code",
   "execution_count": null,
   "metadata": {},
   "outputs": [],
   "source": [
    "optim_results"
   ]
  },
  {
   "cell_type": "code",
   "execution_count": null,
   "metadata": {},
   "outputs": [],
   "source": []
  }
 ],
 "metadata": {
  "kernelspec": {
   "display_name": "cpm-dev-signal",
   "language": "python",
   "name": "python3"
  },
  "language_info": {
   "codemirror_mode": {
    "name": "ipython",
    "version": 3
   },
   "file_extension": ".py",
   "mimetype": "text/x-python",
   "name": "python",
   "nbconvert_exporter": "python",
   "pygments_lexer": "ipython3",
   "version": "3.12.4"
  }
 },
 "nbformat": 4,
 "nbformat_minor": 2
}
