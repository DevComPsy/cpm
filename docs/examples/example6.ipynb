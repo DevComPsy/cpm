{
 "cells": [
  {
   "cell_type": "code",
   "execution_count": 1,
   "id": "18c72f8b",
   "metadata": {},
   "outputs": [
    {
     "name": "stdout",
     "output_type": "stream",
     "text": [
      "cpm version is up to date\n",
      "version: 0.23.0\n",
      "author: Lenard Dome\n"
     ]
    }
   ],
   "source": [
    "import cpm\n",
    "version = cpm.__version__\n",
    "if version < \"0.23.0\":\n",
    "    raise Exception(\"cpm version is too old, please update to 0.23.0 or later\")\n",
    "else:\n",
    "    print(f\"cpm version is up to date\\nversion: {version}\\nauthor: {cpm.__author__}\")"
   ]
  },
  {
   "cell_type": "markdown",
   "id": "79c5b7e5",
   "metadata": {},
   "source": [
    "# Risk taking using Prospect Theory models\n",
    "\n",
    "This is an intermediate level tutorial, where we assume you are familiar with basic decision-making models under risk. In this example, we will apply and fit a **Prospect Theory** (Kahneman & Tversky, 1979) model to a safe–risky choice task using the **cpm** toolbox. The model will estimate subjective utilities based on value curvature, loss aversion, ambiguity sensitivity, and a non-linear transformation of probabilities. Please note that the available models and functions are subject to change as this is still under active development."
   ]
  }
 ],
 "metadata": {
  "kernelspec": {
   "display_name": "base",
   "language": "python",
   "name": "python3"
  },
  "language_info": {
   "codemirror_mode": {
    "name": "ipython",
    "version": 3
   },
   "file_extension": ".py",
   "mimetype": "text/x-python",
   "name": "python",
   "nbconvert_exporter": "python",
   "pygments_lexer": "ipython3",
   "version": "3.12.4"
  }
 },
 "nbformat": 4,
 "nbformat_minor": 5
}
