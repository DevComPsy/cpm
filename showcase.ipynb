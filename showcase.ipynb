{
 "cells": [
  {
   "cell_type": "markdown",
   "metadata": {},
   "source": [
    "# Report on the main functionalities implemented in the prototype\n",
    "\n",
    "Here I will walk through the functionalities implemented so far.\n",
    "It is all representative, which means that terminology and details might not correspond completely to the final version and what we have envisioned.\n",
    "While hacking away, I was also thinking about the design and how to make it more modular and extensible.\n",
    "Sometimes I also changed some things in the design (mainly affecting implementation-level details) and I will try to explain the reasoning behind them.\n",
    "Please let me know if I changed some things too much!\n",
    "I was heavily focusing on the modular aspects, so I might have glossed over some important things we have agreed on before.\n",
    "\n",
    "I believe that my next targets should be:\n",
    "\n",
    "1. Documentation (before I forget what I did)\n",
    "2. Automated testing (develop unit tests while it is still easy to do so)\n",
    "3. Make the design and terminology more consistent with the planned final version\n",
    "3. Refactoring and Performance Improvement (implement parallelism, optimize the code, etc.)\n",
    "4. Extending the functionality (implement the missing features, such as model recovery, etc.)\n",
    "\n",
    "...in this order."
   ]
  },
  {
   "cell_type": "markdown",
   "metadata": {},
   "source": [
    "## Keeping track of the state\n",
    "\n",
    "I have created a Notion database to track progress and issues in the project.\n",
    "I will try to keep it up to date and also import all the things from the Engineering Document that are still waiting to be done.\n",
    "I will send an invite to the database as soon as I have the time to do so and it is in a presentable format.\n",
    "It would be immensely helpful if you could add any tasks and issues to the database as well.\n",
    "\n",
    "Keep in mind, that there are things that might have been implemented but are not working as expected.\n",
    "This is something I am aware of and working on at the moment.\n",
    "If you notice something weird, please let me know and/or add it to the database."
   ]
  },
  {
   "cell_type": "markdown",
   "metadata": {},
   "source": [
    "## The toolbox\n",
    "\n",
    "Okay, so let's start with the toolbox.\n",
    "First things first, CPM is the winner as the name of the toolbox. :smile:\n",
    "\n",
    "### The toolbox structure\n",
    "\n",
    "The toolbox is structured as a collection of modules.\n",
    "Each module is a separate folder in the `cpm` folder.\n",
    "The way you import the modules is by typing `import cpm.<module_name>`.\n",
    "Currently, the toolbox is not compiled, which means that you have to have the folder in your current working directory.\n",
    "It is on my to-do list to compile the toolbox and make it installable via `pip`.\n",
    "The modules are:\n",
    "\n",
    "    - `cpm.utils`: A module that contains utility functions and classes.\n",
    "    - `cpm.models`: A module that contains the model components and associated wrapper functions.\n",
    "    - `cpm.models.zoo`: A submodule of models that contains all model components categorised as activation, attention, decision, learning, memory, utils, and etc.\n",
    "    - `cpm.applications`: A module that contains fully implemented working models from e.g. previous publications.\n",
    "    - `cpm.optimisation`: A module that contains the optimisation routines and various goodness-of-fit metrics.\n",
    "    - `cpm.evaluation`: A module that contains the evaluation routines.\n",
    "\n",
    "Most functions will take in a python dictionary as an input and return a python dictionary or an array as an output.\n",
    "The reason for this is that it is easier to keep track of the inputs and outputs and it is also easier to make it modular.\n",
    "Dictionaries are key-value pairs, which means that you can easily add new parameters without breaking the code.\n",
    "This also allows components to interact with each other without knowing the details of the other component, as they simply pull a value according to its name, `key`.\n",
    "The downside is that it is a bit slower than using arrays, but it is negligible as almost all computations will use `numpy` arrays.\n",
    "\n",
    "Note that in python, lists and arrays are pretty much mean the same thing.\n"
   ]
  },
  {
   "cell_type": "markdown",
   "metadata": {},
   "source": [
    "### Creating Models\n",
    "\n",
    "The models are created by instantiating the `Model` class from the `cpm.models` module."
   ]
  },
  {
   "cell_type": "code",
   "execution_count": 9,
   "metadata": {},
   "outputs": [],
   "source": [
    "from cpm.models import Model, Wrapper\n",
    "# import components we want to use\n",
    "from cpm.models.zoo.activation import LinearActivation\n",
    "from cpm.models.zoo.decision import Softmax\n",
    "from cpm.models.zoo.learning import DeltaRule\n",
    "\n",
    "# import some useful stuff\n",
    "from prettyformatter import pprint as pp ## pretty print\n",
    "import numpy as np\n"
   ]
  },
  {
   "cell_type": "markdown",
   "metadata": {},
   "source": [
    "Here, we will create a model with a single activation component, a single decision component, and a single learning component.\n",
    "This will be the model that we iterate over each trial, which means that this compiled model will only calculate the output for a single trial."
   ]
  },
  {
   "cell_type": "code",
   "execution_count": 10,
   "metadata": {},
   "outputs": [
    {
     "name": "stdout",
     "output_type": "stream",
     "text": [
      "array([0.44283102, 0.55716898])\n"
     ]
    }
   ],
   "source": [
    "costum = Model(functions = [LinearActivation, Softmax, DeltaRule])\n",
    "\n",
    "## create a single trial as a dictionary\n",
    "\n",
    "trial = {\n",
    "    'alpha' : 0.1,\n",
    "    'temperature': 1,\n",
    "    'weights' : np.array([[0.5, 0.1], [0, 0.5]]),\n",
    "    'input' : np.array([0, 1]),\n",
    "    'feedback' : np.array([0, 1]),\n",
    "    'attention' : np.array([1, 0]),\n",
    "    'misc' : np.array([1, 0])\n",
    "    }\n",
    "\n",
    "## run the model on the trial (** unpacks the dictionary)\n",
    "costum.compute(**trial)\n",
    "pp(costum.policy)"
   ]
  },
  {
   "cell_type": "markdown",
   "metadata": {},
   "source": [
    "This is a very simple model with some very simple components and output.\n",
    "We can also export some details about the model to learn what is going on under the hood.\n",
    "This is where we need to store all metadata as well (including bounds and priors - not yet implemented)."
   ]
  },
  {
   "cell_type": "code",
   "execution_count": 12,
   "metadata": {},
   "outputs": [
    {
     "data": {
      "text/plain": [
       "{'activation': 'Linear',\n",
       " 'decision': 'Softmax',\n",
       " 'learning': 'DeltaRule',\n",
       " 'shape': (2, 2),\n",
       " 'variables': 4}"
      ]
     },
     "execution_count": 12,
     "metadata": {},
     "output_type": "execute_result"
    }
   ],
   "source": [
    "costum.summary()"
   ]
  },
  {
   "cell_type": "markdown",
   "metadata": {},
   "source": [
    "This is neat. We can see that the model has 3 components, each with its own name and category.\n",
    "We also have the shape, which is the shape of the value/weight matrix, where rows are outcomes/actions and columns are stimuli.\n",
    "The variables are the number of internal variables the model calculates (I think that they are simply called parameters in Deep Learning as compared to hyperparameters like learning rate).\n",
    "\n",
    "Let's look at these variables."
   ]
  },
  {
   "cell_type": "code",
   "execution_count": 14,
   "metadata": {},
   "outputs": [
    {
     "name": "stdout",
     "output_type": "stream",
     "text": [
      "array([[0.5 , 0.04],\n",
      "       [0.  , 0.55]])\n"
     ]
    }
   ],
   "source": [
    "pp(costum.weights)"
   ]
  },
  {
   "cell_type": "markdown",
   "metadata": {},
   "source": [
    "It would not be a bad idea to have a function that prints out the model structure in a nice way, perhaps indented and with some nice ASCII stuff or maybe even visualize it.\n",
    "For now, this is enough I think.\n",
    "\n",
    "Another thing we can do is to export model components and their output to a dictionary."
   ]
  },
  {
   "cell_type": "code",
   "execution_count": 15,
   "metadata": {},
   "outputs": [
    {
     "name": "stdout",
     "output_type": "stream",
     "text": [
      "{\n",
      "    \"Linear\":\n",
      "        array([[0. , 0.1],\n",
      "       [0. , 0.5]]),\n",
      "    \"Softmax\"   : array([0.44283102, 0.55716898]),\n",
      "    \"DeltaRule\":\n",
      "        array([[0.5 , 0.04],\n",
      "       [0.  , 0.55]]),\n",
      "}\n"
     ]
    }
   ],
   "source": [
    "pp(costum.values)"
   ]
  },
  {
   "cell_type": "markdown",
   "metadata": {},
   "source": [
    "This is all great but we also need to be able to save the model to a file and load it back.\n",
    "This is currently not implemented, but the way we will do it is by using the `pickle` library."
   ]
  },
  {
   "cell_type": "code",
   "execution_count": 19,
   "metadata": {},
   "outputs": [
    {
     "name": "stdout",
     "output_type": "stream",
     "text": [
      "{\n",
      "    \"Linear\":\n",
      "        array([[0. , 0.1],\n",
      "       [0. , 0.5]]),\n",
      "    \"Softmax\"   : array([0.44283102, 0.55716898]),\n",
      "    \"DeltaRule\":\n",
      "        array([[0.5 , 0.04],\n",
      "       [0.  , 0.55]]),\n",
      "}\n"
     ]
    },
    {
     "data": {
      "text/plain": [
       "{'activation': 'Linear',\n",
       " 'decision': 'Softmax',\n",
       " 'learning': 'DeltaRule',\n",
       " 'shape': (2, 2),\n",
       " 'variables': 4}"
      ]
     },
     "execution_count": 19,
     "metadata": {},
     "output_type": "execute_result"
    }
   ],
   "source": [
    "import pickle as pkl\n",
    "\n",
    "pkl.dump(costum, open(\"mine.pkl\", \"wb\"))\n",
    "pickled_model = pkl.load(open(\"mine.pkl\", \"rb\"))\n",
    "\n",
    "pickled_model.policy\n",
    "pp(pickled_model.values)\n",
    "pickled_model.summary()"
   ]
  },
  {
   "cell_type": "markdown",
   "metadata": {},
   "source": [
    "### Run the model on data\n",
    "\n",
    "Let us start by defining some parameters.\n",
    "We will define them in a dictionary, which allows the Model and Wrapper classes to pull the parameters they need by name.\n",
    "So you don't have to create different objects for each model, you can simply input the same dictionary to all models and they will pull the parameters they need.\n",
    "You don't even need to subset them."
   ]
  },
  {
   "cell_type": "code",
   "execution_count": 20,
   "metadata": {},
   "outputs": [],
   "source": [
    "params = {  # define the parameters\n",
    "    \"alpha\": 0.25,\n",
    "    \"temperature\": 5,\n",
    "}"
   ]
  },
  {
   "cell_type": "markdown",
   "metadata": {},
   "source": [
    "The next bit will be defining the experiment. It will require a bit of explanations so here we go.\n",
    "\n",
    "The experiment is a dictionary that contains all the information about the experiment that the **model** needs to run.\n",
    "Some models will require more information than others, but the basic information is the same.\n",
    "\n",
    "- `trials`: It is a 2D array where the first dimension represents the trial and the second dimension represents for example in which order the stimuli is presented. If you have stimulus 2 and stimulus 3 presented on trial 1, then the first row will be `[2, 3]`. If you have stimulus 1 and stimulus 3 presented on trial 2, then the second row will be `[1, 3]`. This will look like `[[2, 3], [1, 3]]` This is the only thing that is required for all models.\n",
    "- `feedback`: It is (currently) a 1D array where the first dimension represents the trial and the value represents the feedback. If you have feedback 1 on trial 1 and feedback 0 on trial 2, then the array will be `[1, 0]`. This will look like `[1, 0]`. This is required for all models that have a learning component."
   ]
  },
  {
   "cell_type": "code",
   "execution_count": 21,
   "metadata": {},
   "outputs": [],
   "source": [
    "data = {\n",
    "        \"trials\": np.array([[2, 3], [1, 4], [3, 2], [4, 1], [2, 3], [2, 3], [1, 4], [3, 2], [4, 1], [2, 3]]),\n",
    "        \"feedback\": np.array([1, 2, 1, 2, 1, 1, 2, 1, 2, 1]),\n",
    "}"
   ]
  },
  {
   "cell_type": "markdown",
   "metadata": {},
   "source": [
    "The next bit that we can do is to use the `Wrapper` class to run the model on a single experiment.\n",
    "This object will take in the model, the parameters, and the experiment and will run the model on the experiment using the parameters."
   ]
  },
  {
   "cell_type": "code",
   "execution_count": 25,
   "metadata": {},
   "outputs": [
    {
     "name": "stdout",
     "output_type": "stream",
     "text": [
      "array([[0.5       , 0.5       ],\n",
      "       [0.5       , 0.5       ],\n",
      "       [0.69184987, 0.30815013],\n",
      "       [0.25478962, 0.74521038],\n",
      "       [0.86589453, 0.13410547],\n",
      "       [0.94655136, 0.05344864],\n",
      "       [0.11158493, 0.88841507],\n",
      "       [0.96622208, 0.03377792],\n",
      "       [0.03927633, 0.96072367],\n",
      "       [0.98442384, 0.01557616]])\n"
     ]
    }
   ],
   "source": [
    "complete = Wrapper(model = costum, data = data, params = params)\n",
    "## run the model\n",
    "complete.run()\n",
    "## print the policies: first dimension is the trial, second dimension is the action\n",
    "pp(complete.policies)"
   ]
  },
  {
   "cell_type": "markdown",
   "metadata": {},
   "source": [
    "Awesome.\n",
    "We can also use the export function to export the model output with the parameters to a dictionary.\n",
    "The main difference between `export()` and `summary()` is that in the long run `export()` will contain more metadata and will allow to export to a JSON file."
   ]
  },
  {
   "cell_type": "code",
   "execution_count": 24,
   "metadata": {},
   "outputs": [
    {
     "name": "stdout",
     "output_type": "stream",
     "text": [
      "{\n",
      "    \"weights\":\n",
      "        array([[-0.66503906,  1.00341797,  1.00341797, -0.66503906],\n",
      "       [ 0.82617188, -0.66503906, -0.66503906,  0.82617188]]),\n",
      "    \"policies\":\n",
      "        array([[0.5       , 0.5       ],\n",
      "       [0.5       , 0.5       ],\n",
      "       [0.69184987, 0.30815013],\n",
      "       [0.25478962, 0.74521038],\n",
      "       [0.86589453, 0.13410547],\n",
      "       [0.94655136, 0.05344864],\n",
      "       [0.11158493, 0.88841507],\n",
      "       [0.96622208, 0.03377792],\n",
      "       [0.03927633, 0.96072367],\n",
      "       [0.98442384, 0.01557616]]),\n",
      "    \"name\"  : \"Model_3\",\n",
      "    \"alpha\" : 0.25,\n",
      "    \"temperature\"   : 5,\n",
      "}\n"
     ]
    }
   ],
   "source": [
    "pp(complete.export())\n"
   ]
  },
  {
   "cell_type": "markdown",
   "metadata": {},
   "source": [
    "In addition, we can also reset the model and rerun everything.\n",
    "We could use the `Wrapper.reset()` function, that resets the weight/value matrices to the initial values.\n",
    "\n",
    "### Optimisation\n",
    "\n",
    "Now we have the model we want to use.\n",
    "Let's create some data to fit the model to."
   ]
  },
  {
   "cell_type": "code",
   "execution_count": 26,
   "metadata": {},
   "outputs": [],
   "source": [
    "experiment = []\n",
    "for i in range(100):\n",
    "    ppt = {\n",
    "        \"ppt\": i,\n",
    "        \"trials\": np.array([[2, 3], [1, 4], [3, 2], [4, 1], [2, 3], [2, 3], [1, 4], [3, 2], [4, 1], [2, 3]]),\n",
    "        \"feedback\": np.array([1, 2, 1, 2, 1, 1, 2, 1, 2, 1]),\n",
    "        \"observed\": np.array([[1, 0], [0, 1], [1, 0], [0, 1], [1, 0], [1, 0], [0, 1], [1, 0], [0, 1], [1, 0]]),\n",
    "    }\n",
    "    experiment.append(ppt)"
   ]
  },
  {
   "cell_type": "markdown",
   "metadata": {},
   "source": [
    "Compared to running the model on data, this is a bit more complicated.\n",
    "Here we need to create a list of dictionaries, where each dictionary represents a single experiment a.k.a. a single participant.\n",
    "Here I added two new key-value pairs to the experiment dictionary: `ppt` and `observed`.\n",
    "`ppt` is the participant ID and `observed` is the observed response on each trial.\n",
    "Here, I created it in the format the model outputs the policies: a 2D array where the first dimension represents the trial and the second dimension represents the action.\n",
    "So they are essentially ones and zeros, because participants make binary decisions.\n",
    "\n",
    "Okay, let's optimise the model.\n",
    "We will use the `Optimiser` class to do so, and will use an Evolutionary/genetic algorithm.\n",
    "The optimiser will take in the compiled model and wrapper, the data, and the bounds.\n",
    "Now, here the data will also include trial-level details, such as the stimuli and feedback."
   ]
  },
  {
   "cell_type": "code",
   "execution_count": 34,
   "metadata": {},
   "outputs": [
    {
     "name": "stdout",
     "output_type": "stream",
     "text": [
      "[\n",
      "    22.748305795706862,\n",
      "    22.748305795706862,\n",
      "    22.748305795706862,\n",
      "    22.748305795706862,\n",
      "    22.748305795706862,\n",
      "    ...,\n",
      "    22.748305795706862,\n",
      "    22.748305795706862,\n",
      "    22.748305795706862,\n",
      "]\n"
     ]
    }
   ],
   "source": [
    "from cpm.optimisation import DifferentialEvolution, minimise\n",
    "\n",
    "lower = [1e-10, 1e-10]\n",
    "upper = [1, 10]\n",
    "bounds = list(zip(lower, upper))\n",
    "\n",
    "# NOTE: there is something strange going on here, but please ignore it for now, I am working on this\n",
    "Fit = DifferentialEvolution(\n",
    "    model = complete, bounds = bounds, data = experiment, minimisation=\"LogLikelihood\", mutation = 0.5, recombination = 0.7, strategy = \"best1bin\", tol = 0.001\n",
    ")\n",
    "## look at the NLL for a given set of parameters\n",
    "## I think there is some stuff going on with 0 values as well - but I ignored it for now\n",
    "Fit.minimise([0.60924690133760082, 5.6764639071806062])\n",
    "Fit.optimise()\n",
    "\n",
    "fittings = [item.get('fun') for item in Fit.fit]\n",
    "pp(fittings)"
   ]
  },
  {
   "cell_type": "markdown",
   "metadata": {},
   "source": [
    "We can also look at the best fitting parameters here.\n",
    "In principle, they should be the same because right new all participants are the same."
   ]
  },
  {
   "cell_type": "code",
   "execution_count": 33,
   "metadata": {},
   "outputs": [
    {
     "name": "stdout",
     "output_type": "stream",
     "text": [
      "[\n",
      "    {\"alpha\": 0.017008084602395723, \"temperature\": 5.826488519449231},\n",
      "    {\"alpha\": 0.017008084602395723, \"temperature\": 5.826488519449231},\n",
      "    {\"alpha\": 0.017008084602395723, \"temperature\": 5.826488519449231},\n",
      "    {\"alpha\": 0.017008084602395723, \"temperature\": 5.826488519449231},\n",
      "    {\"alpha\": 0.017008084602395723, \"temperature\": 5.826488519449231},\n",
      "    ...,\n",
      "    {\"alpha\": 0.017008084602395723, \"temperature\": 5.826488519449231},\n",
      "    {\"alpha\": 0.017008084602395723, \"temperature\": 5.826488519449231},\n",
      "    {\"alpha\": 0.017008084602395723, \"temperature\": 5.826488519449231},\n",
      "]\n"
     ]
    }
   ],
   "source": [
    "pp(Fit.parameters)"
   ]
  },
  {
   "cell_type": "markdown",
   "metadata": {},
   "source": [
    "This is great, so noew we can run the model on the best fitting parameters and see how it looks like.\n",
    "We can use the `Simulator` class to do that, which takes in the data as defined above a list of dictionaries for the parameter.\n",
    "I know that the Simulator was used a bit differently in what we outlined in the Engineering Document, but I think that this is still okay for now."
   ]
  },
  {
   "cell_type": "code",
   "execution_count": 37,
   "metadata": {},
   "outputs": [],
   "source": [
    "from cpm.models import Simulator\n",
    "\n",
    "explore = Simulator(model = complete, data = experiment, parameters = Fit.parameters)\n",
    "explore.run()\n"
   ]
  },
  {
   "cell_type": "markdown",
   "metadata": {},
   "source": [
    "Let's look at the output.\n",
    "We can simply export all the policies and "
   ]
  },
  {
   "cell_type": "code",
   "execution_count": 38,
   "metadata": {},
   "outputs": [
    {
     "name": "stdout",
     "output_type": "stream",
     "text": [
      "array([[[0.5       , 0.5       ],\n",
      "        [0.5       , 0.5       ],\n",
      "        [0.51269121, 0.48730879],\n",
      "        ...,\n",
      "        [0.55340794, 0.44659206],\n",
      "        [0.45873449, 0.54126551],\n",
      "        [0.56747525, 0.43252475]],\n",
      "\n",
      "       [[0.5       , 0.5       ],\n",
      "        [0.5       , 0.5       ],\n",
      "        [0.51269121, 0.48730879],\n",
      "        ...,\n",
      "        [0.55340794, 0.44659206],\n",
      "        [0.45873449, 0.54126551],\n",
      "        [0.56747525, 0.43252475]],\n",
      "\n",
      "       [[0.5       , 0.5       ],\n",
      "        [0.5       , 0.5       ],\n",
      "        [0.51269121, 0.48730879],\n",
      "        ...,\n",
      "        [0.55340794, 0.44659206],\n",
      "        [0.45873449, 0.54126551],\n",
      "        [0.56747525, 0.43252475]],\n",
      "\n",
      "       ...,\n",
      "\n",
      "       [[0.5       , 0.5       ],\n",
      "        [0.5       , 0.5       ],\n",
      "        [0.51269121, 0.48730879],\n",
      "        ...,\n",
      "        [0.55340794, 0.44659206],\n",
      "        [0.45873449, 0.54126551],\n",
      "        [0.56747525, 0.43252475]],\n",
      "\n",
      "       [[0.5       , 0.5       ],\n",
      "        [0.5       , 0.5       ],\n",
      "        [0.51269121, 0.48730879],\n",
      "        ...,\n",
      "        [0.55340794, 0.44659206],\n",
      "        [0.45873449, 0.54126551],\n",
      "        [0.56747525, 0.43252475]],\n",
      "\n",
      "       [[0.5       , 0.5       ],\n",
      "        [0.5       , 0.5       ],\n",
      "        [0.51269121, 0.48730879],\n",
      "        ...,\n",
      "        [0.55340794, 0.44659206],\n",
      "        [0.45873449, 0.54126551],\n",
      "        [0.56747525, 0.43252475]]])\n"
     ]
    }
   ],
   "source": [
    "pp(explore.policies())"
   ]
  },
  {
   "cell_type": "markdown",
   "metadata": {},
   "source": [
    "### Evaluation\n",
    "\n",
    "Alright, let us now try to do some parameter recovery.\n",
    "There is less and less thing to explain now, so I will just go through it quickly.\n",
    "\n",
    "We will use the `ParameterRecovery` class to do so.\n",
    "This will take in the Wrapper, the optimiser, the strategy, bounds, and iterations."
   ]
  },
  {
   "cell_type": "code",
   "execution_count": 46,
   "metadata": {},
   "outputs": [],
   "source": [
    "from cpm.evaluation import ParameterRecovery\n",
    "\n",
    "recover = ParameterRecovery(\n",
    "    model = explore, optimiser = \"DifferentialEvolution\", strategy = \"grid\",\n",
    "    bounds = bounds, iteration = 2\n",
    "    )\n",
    "recover.recover()"
   ]
  },
  {
   "cell_type": "markdown",
   "metadata": {},
   "source": [
    "Okay, that was fairly quick.\n",
    "Let's look at the results for the learning rate, which we can simply extract from the `ParameterRecovery` object.\n",
    "NOTE that the model will have bad performance, but let's ignore that for now and focus on functionalities."
   ]
  },
  {
   "cell_type": "code",
   "execution_count": 47,
   "metadata": {},
   "outputs": [
    {
     "data": {
      "image/png": "[encoded data removed]",
      "text/plain": [
       "<Figure size 640x480 with 1 Axes>"
      ]
     },
     "metadata": {},
     "output_type": "display_data"
    }
   ],
   "source": [
    "import matplotlib.pyplot as plt\n",
    "\n",
    "alpha = recover.extract(key = 'alpha')\n",
    "\n",
    "recovered = np.asarray(alpha[:, 0, :]).flatten()\n",
    "original = np.asarray(alpha[:, 1, :]).flatten()\n",
    "\n",
    "plt.scatter(recovered, original)\n",
    "plt.show()"
   ]
  },
  {
   "cell_type": "markdown",
   "metadata": {},
   "source": [
    "## The END\n",
    "\n",
    "That's it for now.\n",
    "There are some things that don't work as expected, but I am actively looking into them.\n",
    "I think the biggest challenge was the modular aspect of the toolbox, but I think that it is working quite well now."
   ]
  }
 ],
 "metadata": {
  "kernelspec": {
   "display_name": "Python 3",
   "language": "python",
   "name": "python3"
  },
  "language_info": {
   "codemirror_mode": {
    "name": "ipython",
    "version": 3
   },
   "file_extension": ".py",
   "mimetype": "text/x-python",
   "name": "python",
   "nbconvert_exporter": "python",
   "pygments_lexer": "ipython3",
   "version": "3.11.6"
  }
 },
 "nbformat": 4,
 "nbformat_minor": 2
}
