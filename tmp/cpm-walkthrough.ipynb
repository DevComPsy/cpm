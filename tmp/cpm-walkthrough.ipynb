{
 "cells": [
  {
   "cell_type": "markdown",
   "metadata": {},
   "source": [
    "# Quick Run on the State of Things\n",
    "\n",
    "Here, I will walk through on a simple computational modelling use-case to demonstrate the modular characteristics of the toolbox, `cpm` (Computational Psychiatry Modelling) library.\n",
    "\n",
    "The general structure of the toolbox is as follows:\n",
    "\n",
    "- cpm.applications : contains fully-fledged and ready-to-use models (Delta-Rule or Least Mean Square network, Q-learning algorithm, Actor-Critic, ...).\n",
    "- cpm.models : contains the core classes for running and wrapping the models (simulator, wrapper).\n",
    "- cpm.components : contains the core classes for the components of the models (q-learning rule, delta rule, softmax, winner-takes-all).\n",
    "- cpm.optimization : contains the core classes for the optimization of the models (differential evolution, bayesian mcmc, ...).\n",
    "- cpm.evaluate : contains the core classes for the evaluation of the models (parameter recovery, model recovery).\n",
    "- cpm.utils : contains the core classes for the utilities of the models (convert from pandas to dict and vica versa, ...)."
   ]
  },
  {
   "cell_type": "markdown",
   "metadata": {},
   "source": [
    "### Creating Models\n",
    "\n",
    "First, users must stitch together their model as a function.\n",
    "Each model is a function that takes in a dictionary that includes the parameters and the state, and returns a dictionary of outputs.\n",
    "The keys for each dictionary must include the variable names as defined for the already existing components in the toolbox and must be consistent with the variable names used in the model.\n",
    "In addition, each output must contain a `values` and `policy` keys, which are the main thing we pull out of the model across all different routines we implement."
   ]
  },
  {
   "cell_type": "code",
   "execution_count": 1,
   "metadata": {},
   "outputs": [],
   "source": [
    "from cpm.generators import Parameters, Wrapper\n",
    "# import components we want to use\n",
    "\n",
    "# import components we want to use\n",
    "from cpm.models.utils import Nominal\n",
    "from cpm.models.learning import DeltaRule\n",
    "\n",
    "# import some useful stuff\n",
    "from prettyformatter import pprint as pp ## pretty print\n",
    "import numpy as np\n"
   ]
  },
  {
   "cell_type": "markdown",
   "metadata": {},
   "source": [
    "Here, we will create a model with a single activation component, a single decision component, and a single learning component.\n",
    "This will be the model that we iterate over each trial, which means that this compiled model will only calculate the output for a single trial.\n",
    "\n",
    "The main advantage of using a dictionary is that you can feed the same thing to x number of models without any issues, because each pulls out the relevant information from the dictionary.\n",
    "\n",
    "This makes things easier for model comparisons, especially for us with the model recovery that we are implementing in the future."
   ]
  },
  {
   "cell_type": "code",
   "execution_count": 2,
   "metadata": {},
   "outputs": [],
   "source": [
    "## create a single trial as a dictionary\n",
    "trial = {\n",
    "    \"trials\": np.array([1, 2]),\n",
    "    \"feedback\": np.array([1]),\n",
    "    \"attention\": np.array([1, 0]), ## not used in the model\n",
    "    \"misc\": np.array([1, 0]),      ## not used in the model\n",
    "}\n",
    "\n",
    "## create a set of parameters\n",
    "## the parameter class is only used for the Wrapper\n",
    "## other classes and modules will convert the parameters to this class automatically \n",
    "parameters = Parameters(alpha=0.1, temperature=1, values=np.array([[-0.5, 0.7, 0.9, 0]]))\n"
   ]
  },
  {
   "cell_type": "markdown",
   "metadata": {},
   "source": [
    "Parameter must have their own class, because we plan to integrate parameter bounds and priors into this class, which can then be used across the toolbox.\n",
    "The thing is that priors and bounds should also be part of the model specifications, so I reckon it needs more thought before we proceed.\n",
    "\n",
    "Below, we can define our terrible mock model."
   ]
  },
  {
   "cell_type": "code",
   "execution_count": 3,
   "metadata": {},
   "outputs": [],
   "source": [
    "def model(parameters, trial):\n",
    "    ## import parameters\n",
    "    alpha = parameters.alpha\n",
    "    temperature = parameters.temperature\n",
    "    ## import variables\n",
    "    weights = parameters.values\n",
    "\n",
    "    ## import trial\n",
    "    stimulus = trial.get(\"trials\")\n",
    "    stimulus = Nominal(target=stimulus, bits=4)\n",
    "    feedback = trial.get(\"feedback\")\n",
    "\n",
    "    ## specify the computations for a given trial\n",
    "    ## multiply weights with stimulis vector\n",
    "    active = stimulus * weights\n",
    "    ## this is a mock-up policy\n",
    "    policy = np.sum(active) * temperature\n",
    "    ## learning\n",
    "    learning = DeltaRule(\n",
    "        weights=active, feedback=feedback, alpha=alpha, input=stimulus\n",
    "    )\n",
    "    learning.compute()\n",
    "    error = learning.weights\n",
    "    weights += error\n",
    "    output = {\n",
    "        \"policy\": np.array([policy]),\n",
    "        \"values\": weights,\n",
    "        \"dependent\": np.array([policy]),\n",
    "    }\n",
    "    return output"
   ]
  },
  {
   "cell_type": "markdown",
   "metadata": {},
   "source": [
    "This is a very simple model with some very simple components and output.\n",
    "We can also export some details about the model to learn what is going on under the hood.\n",
    "This is where we need to store all metadata as well (including bounds and priors - not yet implemented).\n",
    "Let's see how it works."
   ]
  },
  {
   "cell_type": "code",
   "execution_count": 4,
   "metadata": {},
   "outputs": [
    {
     "data": {
      "text/plain": [
       "{'policy': array([0.2]),\n",
       " 'values': array([[-0.42,  0.78,  0.9 ,  0.  ]]),\n",
       " 'dependent': array([0.2])}"
      ]
     },
     "execution_count": 4,
     "metadata": {},
     "output_type": "execute_result"
    }
   ],
   "source": [
    "model(parameters, trial)"
   ]
  },
  {
   "cell_type": "markdown",
   "metadata": {},
   "source": [
    "### Run the model on data\n",
    "\n",
    "Let us start by defining some parameters.\n",
    "We will define them in a dictionary, which allows the Model and Wrapper classes to pull the parameters they need by name.\n",
    "So you don't have to create different objects for each model, you can simply input the same dictionary to all models and they will pull the parameters they need.\n",
    "You don't even need to subset them."
   ]
  },
  {
   "cell_type": "markdown",
   "metadata": {},
   "source": [
    "The next bit will be defining the experiment.\n",
    "Currently, we use dictionaries, but there is no reason why we can't use pandas dataframes with our own conversion.\n",
    "Again, the goal is that when you have any type of routine, models and actually anything can pull the information they need from the same object using the `keys` in the dictionary.\n",
    "If we were to use arrays or lists, indexing would be a pain.\n",
    "\n",
    "It will require a bit of explanations so here we go.\n",
    "\n",
    "The experiment is a dictionary that contains all the information about the experiment that the **model** needs to run.\n",
    "Some models will require more information than others, but the basic information is the same.\n",
    "\n",
    "- `trials`: It is a 2D array where the first dimension represents the trial and the second dimension represents for example in which order the stimuli is presented. If you have stimulus 2 and stimulus 3 presented on trial 1, then the first row will be `[2, 3]`. If you have stimulus 1 and stimulus 3 presented on trial 2, then the second row will be `[1, 3]`. This will look like `[[2, 3], [1, 3]]` This is the only thing that is required for all models.\n",
    "- `feedback`: It is (currently) a 1D array where the first dimension represents the trial and the value represents the feedback. If you have feedback 1 on trial 1 and feedback 0 on trial 2, then the array will be `[1, 0]`. This will look like `[1, 0]`. This is required for all models that have a learning component.\n",
    "\n",
    "Keep in mind that this type of representation will largely depend on the type of model users will implement."
   ]
  },
  {
   "cell_type": "code",
   "execution_count": 5,
   "metadata": {},
   "outputs": [],
   "source": [
    "data = {\n",
    "    \"trials\": np.array(\n",
    "        [[2, 3], [1, 4], [3, 2], [4, 1], [2, 3], [2, 3], [1, 4], [3, 2], [4, 1], [2, 3]]\n",
    "    ),\n",
    "    \"feedback\": np.array([[1], [0], [1], [0], [1], [1], [0], [1], [0], [1]]),\n",
    "}"
   ]
  },
  {
   "cell_type": "markdown",
   "metadata": {},
   "source": [
    "The next bit that we can do is to use the `Wrapper` class to run the model on our experiment, like it was a participant.\n",
    "This object will take in the model, the parameters, and the experiment and will run the model on the experiment using the parameters."
   ]
  },
  {
   "cell_type": "code",
   "execution_count": 6,
   "metadata": {},
   "outputs": [
    {
     "data": {
      "text/plain": [
       "array([[0.],\n",
       "       [0.],\n",
       "       [1.],\n",
       "       [0.],\n",
       "       [1.],\n",
       "       [1.],\n",
       "       [0.],\n",
       "       [1.],\n",
       "       [0.],\n",
       "       [1.]])"
      ]
     },
     "execution_count": 6,
     "metadata": {},
     "output_type": "execute_result"
    }
   ],
   "source": [
    "# Add new parameters to the model\n",
    "params = {\n",
    "    \"alpha\": 0.5,\n",
    "    \"temperature\": 1,\n",
    "    \"values\": np.zeros((1, 4)),\n",
    "}\n",
    "\n",
    "params = Parameters(**params)\n",
    "\n",
    "wrap = Wrapper(model=model, parameters=params, data=data)\n",
    "wrap.run()\n",
    "wrap.dependent"
   ]
  },
  {
   "cell_type": "markdown",
   "metadata": {},
   "source": [
    "Awesome.\n",
    "We can also use the export function to export the model output with the parameters to a dictionary.\n",
    "The main difference between `export()` and `summary()` is that in the long run `export()` will contain more metadata and will allow to export to a JSON file."
   ]
  },
  {
   "cell_type": "code",
   "execution_count": 7,
   "metadata": {},
   "outputs": [
    {
     "name": "stdout",
     "output_type": "stream",
     "text": [
      "   policy_0  values_0  values_1  values_2  values_3  dependent_0  ppt\n",
      "0       0.0       0.0       0.5       0.5       0.0          0.0    0\n",
      "0       0.0       0.0       0.5       0.5       0.0          0.0    0\n",
      "0       1.0       0.0       0.5       0.5       0.0          1.0    0\n",
      "0       0.0       0.0       0.5       0.5       0.0          0.0    0\n",
      "0       1.0       0.0       0.5       0.5       0.0          1.0    0\n",
      "0       1.0       0.0       0.5       0.5       0.0          1.0    0\n",
      "0       0.0       0.0       0.5       0.5       0.0          0.0    0\n",
      "0       1.0       0.0       0.5       0.5       0.0          1.0    0\n",
      "0       0.0       0.0       0.5       0.5       0.0          0.0    0\n",
      "0       1.0       0.0       0.5       0.5       0.0          1.0    0\n"
     ]
    }
   ],
   "source": [
    "pp(wrap.export())\n"
   ]
  },
  {
   "cell_type": "markdown",
   "metadata": {},
   "source": [
    "Now, we can also reset the model and run it again with different parameters.\n"
   ]
  },
  {
   "cell_type": "code",
   "execution_count": 8,
   "metadata": {},
   "outputs": [
    {
     "name": "stdout",
     "output_type": "stream",
     "text": [
      "   policy_0  values_0  values_1  values_2  values_3  dependent_0  ppt\n",
      "0   0.00000       0.0  0.050000  0.050000       0.0      0.00000    0\n",
      "0   0.00000       0.0  0.050000  0.050000       0.0      0.00000    0\n",
      "0   0.10000       0.0  0.095000  0.095000       0.0      0.10000    0\n",
      "0   0.00000       0.0  0.095000  0.095000       0.0      0.00000    0\n",
      "0   0.19000       0.0  0.135500  0.135500       0.0      0.19000    0\n",
      "0   0.27100       0.0  0.171950  0.171950       0.0      0.27100    0\n",
      "0   0.00000       0.0  0.171950  0.171950       0.0      0.00000    0\n",
      "0   0.34390       0.0  0.204755  0.204755       0.0      0.34390    0\n",
      "0   0.00000       0.0  0.204755  0.204755       0.0      0.00000    0\n",
      "0   0.40951       0.0  0.234280  0.234280       0.0      0.40951    0\n"
     ]
    }
   ],
   "source": [
    "wrap.reset(parameters={\"alpha\": 0.05, \"temperature\": 1, \"values\": np.zeros((1, 4))})\n",
    "wrap.run()\n",
    "pp(wrap.export())"
   ]
  },
  {
   "cell_type": "markdown",
   "metadata": {},
   "source": [
    "Now, let us save the model. Each object will have a save method that will save the object to a file. We use `pickle` to write the object to a disk."
   ]
  },
  {
   "cell_type": "code",
   "execution_count": 9,
   "metadata": {},
   "outputs": [
    {
     "data": {
      "text/plain": [
       "[{'policy': array([0.]),\n",
       "  'values': array([[0.  , 0.05, 0.05, 0.  ]]),\n",
       "  'dependent': array([0.])},\n",
       " {'policy': array([0.]),\n",
       "  'values': array([[0.  , 0.05, 0.05, 0.  ]]),\n",
       "  'dependent': array([0.])},\n",
       " {'policy': array([0.1]),\n",
       "  'values': array([[0.   , 0.095, 0.095, 0.   ]]),\n",
       "  'dependent': array([0.1])},\n",
       " {'policy': array([0.]),\n",
       "  'values': array([[0.   , 0.095, 0.095, 0.   ]]),\n",
       "  'dependent': array([0.])},\n",
       " {'policy': array([0.19]),\n",
       "  'values': array([[0.    , 0.1355, 0.1355, 0.    ]]),\n",
       "  'dependent': array([0.19])},\n",
       " {'policy': array([0.271]),\n",
       "  'values': array([[0.     , 0.17195, 0.17195, 0.     ]]),\n",
       "  'dependent': array([0.271])},\n",
       " {'policy': array([0.]),\n",
       "  'values': array([[0.     , 0.17195, 0.17195, 0.     ]]),\n",
       "  'dependent': array([0.])},\n",
       " {'policy': array([0.3439]),\n",
       "  'values': array([[0.      , 0.204755, 0.204755, 0.      ]]),\n",
       "  'dependent': array([0.3439])},\n",
       " {'policy': array([0.]),\n",
       "  'values': array([[0.      , 0.204755, 0.204755, 0.      ]]),\n",
       "  'dependent': array([0.])},\n",
       " {'policy': array([0.40951]),\n",
       "  'values': array([[0.       , 0.2342795, 0.2342795, 0.       ]]),\n",
       "  'dependent': array([0.40951])}]"
      ]
     },
     "execution_count": 9,
     "metadata": {},
     "output_type": "execute_result"
    }
   ],
   "source": [
    "wrap.simulation"
   ]
  },
  {
   "cell_type": "code",
   "execution_count": 10,
   "metadata": {},
   "outputs": [],
   "source": [
    "wrap.save(filename = \"test\")"
   ]
  },
  {
   "cell_type": "markdown",
   "metadata": {},
   "source": [
    "### Optimisation\n",
    "\n",
    "Now we have the model we want to use.\n",
    "Let's create some data to fit the model to.\n",
    "\n",
    "I implemented some utility functions, where you can convert from pandas to arrays of dictionaries and vice versa.\n",
    "It will require more thought and standardisation, but it is a start."
   ]
  },
  {
   "cell_type": "code",
   "execution_count": 11,
   "metadata": {},
   "outputs": [],
   "source": [
    "experiment = []\n",
    "for i in range(100):\n",
    "    ppt = {\n",
    "        \"ppt\": i,\n",
    "        \"trials\": np.array(\n",
    "            [\n",
    "                [2, 3],\n",
    "                [1, 4],\n",
    "                [3, 2],\n",
    "                [4, 1],\n",
    "                [2, 3],\n",
    "                [2, 3],\n",
    "                [1, 4],\n",
    "                [3, 2],\n",
    "                [4, 1],\n",
    "                [2, 3],\n",
    "            ]\n",
    "        ),\n",
    "        \"feedback\": np.array([[1], [0], [1], [0], [1], [1], [0], [1], [0], [1]]),\n",
    "        \"observed\": np.array([[1], [0], [1], [0], [1], [1], [0], [1], [0], [1]]),\n",
    "    }\n",
    "    experiment.append(ppt)\n"
   ]
  },
  {
   "cell_type": "markdown",
   "metadata": {},
   "source": [
    "Compared to running the model on data, this is a bit more complicated.\n",
    "Here we need to create a list of dictionaries, where each dictionary represents a single experiment a.k.a. a single participant.\n",
    "Here I added two new key-value pairs to the experiment dictionary: `ppt` and `observed`.\n",
    "`ppt` is the participant ID and `observed` is the observed response on each trial.\n",
    "It must be in the format the model outputs the policies: a 2D array where the first dimension represents the trial and the second dimension represents the action.\n",
    "So they are essentially ones and zeros, because participants make binary decisions.\n",
    "\n",
    "Okay, let's optimise the model.\n",
    "We will use the `DifferentialEvolution` class to do so, and will use an Evolutionary/genetic algorithm from `scipy`.\n",
    "The optimiser will take in the wrapper, the data, and the bounds (it will be part of the model specification later).\n",
    "It takes in some pre-defined arguments, but anything else passed to it will be passed to the `scipy` optimiser.\n",
    "\n",
    "Here, our goal is to organise the optimisation routines in a way that they are easy to use and easy to understand for the type of uses we have in mind or others have in mind.\n",
    "That is to fit each model to each participant.\n",
    "\n",
    "Now, here the data will also include trial-level details, such as the stimuli and feedback.\n",
    "The main reason is that we fit trial-level observations for each participants, because we fit them to each participant.\n"
   ]
  },
  {
   "cell_type": "code",
   "execution_count": 12,
   "metadata": {},
   "outputs": [
    {
     "name": "stdout",
     "output_type": "stream",
     "text": [
      "[\n",
      "    {\"parameters\": array([0.71450614, 1.        ]), \"fun\": 22.8163073955283},\n",
      "    {\"parameters\": array([0.71450555, 1.        ]), \"fun\": 22.81630739552633},\n",
      "    {\"parameters\": array([0.71450578, 1.        ]), \"fun\": 22.816307395526632},\n",
      "    {\"parameters\": array([0.71450508, 1.        ]), \"fun\": 22.816307395527577},\n",
      "    {\"parameters\": array([0.71450554, 1.        ]), \"fun\": 22.816307395526334},\n",
      "    ...,\n",
      "    {\"parameters\": array([0.7145061, 1.       ]), \"fun\": 22.81630739552802},\n",
      "    {\"parameters\": array([0.71450519, 1.        ]), \"fun\": 22.816307395527037},\n",
      "    {\"parameters\": array([0.71450551, 1.        ]), \"fun\": 22.81630739552634},\n",
      "]\n"
     ]
    }
   ],
   "source": [
    "from cpm.optimisation import DifferentialEvolution, minimise\n",
    "\n",
    "lower = [1e-10, 1e-10]\n",
    "upper = [1, 1]\n",
    "bounds = list(zip(lower, upper))\n",
    "\n",
    "Fit = DifferentialEvolution(\n",
    "    model=wrap,\n",
    "    bounds=bounds,\n",
    "    data=experiment,\n",
    "    minimisation=minimise.LogLikelihood.bernoulli, # currently, this is the only working metric\n",
    "    mutation=0.5, # kwargs\n",
    "    recombination=0.7, # kwargs\n",
    "    strategy=\"best1bin\", # kwargs\n",
    "    tol=0.1, # kwargs\n",
    "    maxiter=200, # kwargs\n",
    ")  # initialize the optimisation\n",
    "\n",
    "Fit.optimise()\n",
    "\n",
    "pp(Fit.fit)"
   ]
  },
  {
   "cell_type": "markdown",
   "metadata": {},
   "source": [
    "We can also look at the best fitting parameters here.\n",
    "In principle, they should be the same because right new all participants are the same."
   ]
  },
  {
   "cell_type": "code",
   "execution_count": 13,
   "metadata": {},
   "outputs": [
    {
     "name": "stdout",
     "output_type": "stream",
     "text": [
      "[\n",
      "    {\"alpha\": 0.714506144182777, \"temperature\": 1.0},\n",
      "    {\"alpha\": 0.7145055541974166, \"temperature\": 1.0},\n",
      "    {\"alpha\": 0.714505782365677, \"temperature\": 1.0},\n",
      "    {\"alpha\": 0.7145050775347982, \"temperature\": 1.0},\n",
      "    {\"alpha\": 0.7145055413231736, \"temperature\": 1.0},\n",
      "    ...,\n",
      "    {\"alpha\": 0.7145061005748399, \"temperature\": 1.0},\n",
      "    {\"alpha\": 0.7145051946090427, \"temperature\": 1.0},\n",
      "    {\"alpha\": 0.7145055071626711, \"temperature\": 1.0},\n",
      "]\n"
     ]
    }
   ],
   "source": [
    "pp(Fit.parameters)"
   ]
  },
  {
   "cell_type": "code",
   "execution_count": 14,
   "metadata": {},
   "outputs": [
    {
     "data": {
      "text/html": [
       "<div>\n",
       "<style scoped>\n",
       "    .dataframe tbody tr th:only-of-type {\n",
       "        vertical-align: middle;\n",
       "    }\n",
       "\n",
       "    .dataframe tbody tr th {\n",
       "        vertical-align: top;\n",
       "    }\n",
       "\n",
       "    .dataframe thead th {\n",
       "        text-align: right;\n",
       "    }\n",
       "</style>\n",
       "<table border=\"1\" class=\"dataframe\">\n",
       "  <thead>\n",
       "    <tr style=\"text-align: right;\">\n",
       "      <th></th>\n",
       "      <th>alpha</th>\n",
       "      <th>temperature</th>\n",
       "      <th>fun</th>\n",
       "    </tr>\n",
       "  </thead>\n",
       "  <tbody>\n",
       "    <tr>\n",
       "      <th>0</th>\n",
       "      <td>0.714506</td>\n",
       "      <td>1.0</td>\n",
       "      <td>22.816307</td>\n",
       "    </tr>\n",
       "    <tr>\n",
       "      <th>0</th>\n",
       "      <td>0.714506</td>\n",
       "      <td>1.0</td>\n",
       "      <td>22.816307</td>\n",
       "    </tr>\n",
       "    <tr>\n",
       "      <th>0</th>\n",
       "      <td>0.714506</td>\n",
       "      <td>1.0</td>\n",
       "      <td>22.816307</td>\n",
       "    </tr>\n",
       "    <tr>\n",
       "      <th>0</th>\n",
       "      <td>0.714505</td>\n",
       "      <td>1.0</td>\n",
       "      <td>22.816307</td>\n",
       "    </tr>\n",
       "    <tr>\n",
       "      <th>0</th>\n",
       "      <td>0.714506</td>\n",
       "      <td>1.0</td>\n",
       "      <td>22.816307</td>\n",
       "    </tr>\n",
       "    <tr>\n",
       "      <th>...</th>\n",
       "      <td>...</td>\n",
       "      <td>...</td>\n",
       "      <td>...</td>\n",
       "    </tr>\n",
       "    <tr>\n",
       "      <th>0</th>\n",
       "      <td>0.714506</td>\n",
       "      <td>1.0</td>\n",
       "      <td>22.816307</td>\n",
       "    </tr>\n",
       "    <tr>\n",
       "      <th>0</th>\n",
       "      <td>0.714505</td>\n",
       "      <td>1.0</td>\n",
       "      <td>22.816307</td>\n",
       "    </tr>\n",
       "    <tr>\n",
       "      <th>0</th>\n",
       "      <td>0.714506</td>\n",
       "      <td>1.0</td>\n",
       "      <td>22.816307</td>\n",
       "    </tr>\n",
       "    <tr>\n",
       "      <th>0</th>\n",
       "      <td>0.714505</td>\n",
       "      <td>1.0</td>\n",
       "      <td>22.816307</td>\n",
       "    </tr>\n",
       "    <tr>\n",
       "      <th>0</th>\n",
       "      <td>0.714506</td>\n",
       "      <td>1.0</td>\n",
       "      <td>22.816307</td>\n",
       "    </tr>\n",
       "  </tbody>\n",
       "</table>\n",
       "<p>100 rows × 3 columns</p>\n",
       "</div>"
      ],
      "text/plain": [
       "       alpha  temperature        fun\n",
       "0   0.714506          1.0  22.816307\n",
       "0   0.714506          1.0  22.816307\n",
       "0   0.714506          1.0  22.816307\n",
       "0   0.714505          1.0  22.816307\n",
       "0   0.714506          1.0  22.816307\n",
       "..       ...          ...        ...\n",
       "0   0.714506          1.0  22.816307\n",
       "0   0.714505          1.0  22.816307\n",
       "0   0.714506          1.0  22.816307\n",
       "0   0.714505          1.0  22.816307\n",
       "0   0.714506          1.0  22.816307\n",
       "\n",
       "[100 rows x 3 columns]"
      ]
     },
     "execution_count": 14,
     "metadata": {},
     "output_type": "execute_result"
    }
   ],
   "source": [
    "Fit.export()"
   ]
  },
  {
   "cell_type": "code",
   "execution_count": 16,
   "metadata": {},
   "outputs": [
    {
     "ename": "AttributeError",
     "evalue": "'DifferentialEvolution' object has no attribute '_detailed'",
     "output_type": "error",
     "traceback": [
      "\u001b[0;31m---------------------------------------------------------------------------\u001b[0m",
      "\u001b[0;31mAttributeError\u001b[0m                            Traceback (most recent call last)",
      "Cell \u001b[0;32mIn[16], line 1\u001b[0m\n\u001b[0;32m----> 1\u001b[0m \u001b[43mFit\u001b[49m\u001b[38;5;241;43m.\u001b[39;49m\u001b[43m_detailed\u001b[49m()\n",
      "\u001b[0;31mAttributeError\u001b[0m: 'DifferentialEvolution' object has no attribute '_detailed'"
     ]
    }
   ],
   "source": [
    "Fit._detailed()"
   ]
  },
  {
   "cell_type": "markdown",
   "metadata": {},
   "source": [
    "This is great, so noew we can run the model on the best fitting parameters and see how it looks like.\n",
    "We can use the `Simulator` class to do that, which takes in the data as defined above a list of dictionaries for the parameter.\n",
    "I know that the Simulator was used a bit differently in what we outlined in the Engineering Document, but I think that this is still okay for now."
   ]
  },
  {
   "cell_type": "code",
   "execution_count": null,
   "metadata": {},
   "outputs": [],
   "source": [
    "from cpm.generators import Simulator\n",
    "\n",
    "wrap.reset()\n",
    "\n",
    "explore = Simulator(model = wrap, data = experiment, parameters = Fit.parameters)\n",
    "explore.run()\n"
   ]
  },
  {
   "cell_type": "code",
   "execution_count": null,
   "metadata": {},
   "outputs": [],
   "source": [
    "explore.simulation"
   ]
  },
  {
   "cell_type": "code",
   "execution_count": null,
   "metadata": {},
   "outputs": [],
   "source": [
    "explore.export()"
   ]
  },
  {
   "cell_type": "markdown",
   "metadata": {},
   "source": [
    "Let's look at the output.\n",
    "We can simply export the outcome as a pandas dataframe and plot it.\n",
    "It is confusingly names `export()`, so that will need to be changed."
   ]
  },
  {
   "cell_type": "markdown",
   "metadata": {},
   "source": [
    "### Evaluation\n",
    "\n",
    "Alright, let us now try to do some parameter recovery.\n",
    "There is less and less thing to explain now, so I will just go through it quickly.\n",
    "\n",
    "We will use the `ParameterRecovery` from `cpm.evaluation`.\n",
    "This will take in the Wrapper, the optimiser, the strategy, bounds, and iterations."
   ]
  },
  {
   "cell_type": "markdown",
   "metadata": {},
   "source": [
    "Okay, that was fairly quick.\n",
    "Let's look at the results for the learning rate, which we can simply extract from the `ParameterRecovery` object.\n",
    "NOTE that the model will have bad performance, but let's ignore that for now and focus on functionalities."
   ]
  },
  {
   "cell_type": "code",
   "execution_count": null,
   "metadata": {},
   "outputs": [],
   "source": [
    "explore.generate()\n",
    "explore.generated[0].get(\"observed\").shape"
   ]
  },
  {
   "cell_type": "code",
   "execution_count": null,
   "metadata": {},
   "outputs": [],
   "source": [
    "from cpm.evaluation import ParameterRecovery, strategies\n",
    "\n",
    "\n",
    "new = Simulator(model = wrap, data = experiment, parameters = Fit.parameters)\n",
    "\n",
    "recover = ParameterRecovery(\n",
    "    model = new,\n",
    "    strategy = strategies.grid,\n",
    "    optimiser = DifferentialEvolution, \n",
    "    loss=minimise.LogLikelihood.continuous,\n",
    "    iteration = 10, bounds = bounds\n",
    "    )\n",
    "\n",
    "recover.recover()\n",
    "\n"
   ]
  },
  {
   "cell_type": "code",
   "execution_count": null,
   "metadata": {},
   "outputs": [],
   "source": [
    "recover.extract(key=\"alpha\")"
   ]
  },
  {
   "cell_type": "code",
   "execution_count": null,
   "metadata": {},
   "outputs": [],
   "source": [
    "import matplotlib.pyplot as plt\n",
    "\n",
    "alpha = recover.extract(key = 'alpha')\n",
    "alpha[\"ppt\"] = np.repeat(np.arange(100), 10)\n"
   ]
  },
  {
   "cell_type": "code",
   "execution_count": null,
   "metadata": {},
   "outputs": [],
   "source": [
    "alpha.plot.scatter(x=\"recovered\", y=\"original\", c=\"iteration\", colormap=\"viridis\", s = 10)"
   ]
  },
  {
   "cell_type": "markdown",
   "metadata": {},
   "source": [
    "## The END\n",
    "\n",
    "That's it for now.\n",
    "There are some things that don't work as expected, but I am actively looking into them.\n",
    "I think the biggest challenge was the modular aspect of the toolbox, but I think that it is working quite well now."
   ]
  }
 ],
 "metadata": {
  "kernelspec": {
   "display_name": "Python 3",
   "language": "python",
   "name": "python3"
  },
  "language_info": {
   "codemirror_mode": {
    "name": "ipython",
    "version": 3
   },
   "file_extension": ".py",
   "mimetype": "text/x-python",
   "name": "python",
   "nbconvert_exporter": "python",
   "pygments_lexer": "ipython3",
   "version": "3.11.6"
  }
 },
 "nbformat": 4,
 "nbformat_minor": 2
}
