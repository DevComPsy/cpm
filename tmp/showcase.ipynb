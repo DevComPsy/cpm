{
 "cells": [
  {
   "cell_type": "markdown",
   "metadata": {},
   "source": [
    "# Report on the main functionalities implemented in the prototype\n",
    "\n",
    "Here I will walk through the functionalities implemented so far.\n",
    "It is all representative, which means that terminology and details might not correspond completely to the final version and what we have envisioned.\n",
    "While hacking away, I was also thinking about the design and how to make it more modular and extensible.\n",
    "Sometimes I also changed some things in the design (mainly affecting implementation-level details) and I will try to explain the reasoning behind them.\n",
    "Please let me know if I changed some things too much!\n",
    "I was heavily focusing on the modular aspects, so I might have glossed over some important things we have agreed on before.\n",
    "\n",
    "I believe that my next targets should be:\n",
    "\n",
    "1. Documentation (before I forget what I did)\n",
    "2. Automated testing (develop unit tests while it is still easy to do so)\n",
    "3. Make the design and terminology more consistent with the planned final version\n",
    "3. Refactoring and Performance Improvement (implement parallelism, optimize the code, etc.)\n",
    "4. Extending the functionality (implement the missing features, such as model recovery, etc.)\n",
    "\n",
    "...in this order."
   ]
  },
  {
   "cell_type": "markdown",
   "metadata": {},
   "source": [
    "## Keeping track of the state\n",
    "\n",
    "I have created a Notion database to track progress and issues in the project.\n",
    "I will try to keep it up to date and also import all the things from the Engineering Document that are still waiting to be done.\n",
    "I will send an invite to the database as soon as I have the time to do so and it is in a presentable format.\n",
    "It would be immensely helpful if you could add any tasks and issues to the database as well.\n",
    "\n",
    "Keep in mind, that there are things that might have been implemented but are not working as expected.\n",
    "This is something I am aware of and working on at the moment.\n",
    "If you notice something weird, please let me know and/or add it to the database."
   ]
  },
  {
   "cell_type": "markdown",
   "metadata": {},
   "source": [
    "## The toolbox\n",
    "\n",
    "Okay, so let's start with the toolbox.\n",
    "First things first, CPM is the winner as the name of the toolbox. :smile:\n",
    "\n",
    "### The toolbox structure\n",
    "\n",
    "The toolbox is structured as a collection of modules.\n",
    "Each module is a separate folder in the `cpm` folder.\n",
    "The way you import the modules is by typing `import cpm.<module_name>`.\n",
    "Currently, the toolbox is not compiled, which means that you have to have the folder in your current working directory.\n",
    "It is on my to-do list to compile the toolbox and make it installable via `pip`.\n",
    "The modules are:\n",
    "\n",
    "    - `cpm.utils`: A module that contains utility functions and classes.\n",
    "    - `cpm.models`: A module that contains the model components and associated wrapper functions.\n",
    "    - `cpm.components`: A module that contains all model components categorised as activation, attention, decision, learning, memory, utils, and etc.\n",
    "    - `cpm.applications`: A module that contains fully implemented working models from e.g. previous publications.\n",
    "    - `cpm.optimisation`: A module that contains the optimisation routines and various goodness-of-fit metrics.\n",
    "    - `cpm.evaluation`: A module that contains the evaluation routines.\n",
    "\n",
    "Most functions will take in a python dictionary as an input and return a python dictionary or an array as an output.\n",
    "The reason for this is that it is easier to keep track of the inputs and outputs and it is also easier to make it modular.\n",
    "Dictionaries are key-value pairs, which means that you can easily add new parameters without breaking the code.\n",
    "This also allows components to interact with each other without knowing the details of the other component, as they simply pull a value according to its name, `key`.\n",
    "The downside is that it is a bit slower than using arrays, but it is negligible as almost all computations will use `numpy` arrays.\n",
    "\n",
    "Note that in python, lists and arrays are pretty much mean the same thing.\n"
   ]
  },
  {
   "cell_type": "markdown",
   "metadata": {},
   "source": [
    "### Creating Models\n",
    "\n",
    "The models are created by instantiating the `Model` class from the `cpm.models` module."
   ]
  },
  {
   "cell_type": "code",
   "execution_count": 1,
   "metadata": {},
   "outputs": [],
   "source": [
    "from cpm.models import Parameters, Wrapper\n",
    "# import components we want to use\n",
    "from cpm.components.utils import Nominal\n",
    "from cpm.components.activation import LinearActivation\n",
    "from cpm.components.decision import Softmax\n",
    "from cpm.components.learning import DeltaRule\n",
    "\n",
    "# import some useful stuff\n",
    "from prettyformatter import pprint as pp ## pretty print\n",
    "import numpy as np\n"
   ]
  },
  {
   "cell_type": "markdown",
   "metadata": {},
   "source": [
    "Here, we will create a model with a single activation component, a single decision component, and a single learning component.\n",
    "This will be the model that we iterate over each trial, which means that this compiled model will only calculate the output for a single trial."
   ]
  },
  {
   "cell_type": "code",
   "execution_count": 1,
   "metadata": {},
   "outputs": [
    {
     "ename": "NameError",
     "evalue": "name 'np' is not defined",
     "output_type": "error",
     "traceback": [
      "\u001b[0;31m---------------------------------------------------------------------------\u001b[0m",
      "\u001b[0;31mNameError\u001b[0m                                 Traceback (most recent call last)",
      "Cell \u001b[0;32mIn[1], line 4\u001b[0m\n\u001b[1;32m      1\u001b[0m \u001b[38;5;66;03m## create a single trial as a dictionary\u001b[39;00m\n\u001b[1;32m      3\u001b[0m trial \u001b[38;5;241m=\u001b[39m {\n\u001b[0;32m----> 4\u001b[0m     \u001b[38;5;124m'\u001b[39m\u001b[38;5;124mvalues\u001b[39m\u001b[38;5;124m'\u001b[39m : \u001b[43mnp\u001b[49m\u001b[38;5;241m.\u001b[39marray([[\u001b[38;5;241m0.5\u001b[39m, \u001b[38;5;241m0.1\u001b[39m], [\u001b[38;5;241m0\u001b[39m, \u001b[38;5;241m0.5\u001b[39m]]),\n\u001b[1;32m      5\u001b[0m     \u001b[38;5;124m'\u001b[39m\u001b[38;5;124minput\u001b[39m\u001b[38;5;124m'\u001b[39m : np\u001b[38;5;241m.\u001b[39marray([\u001b[38;5;241m0\u001b[39m, \u001b[38;5;241m1\u001b[39m]),\n\u001b[1;32m      6\u001b[0m     \u001b[38;5;124m'\u001b[39m\u001b[38;5;124mfeedback\u001b[39m\u001b[38;5;124m'\u001b[39m : np\u001b[38;5;241m.\u001b[39marray([\u001b[38;5;241m1\u001b[39m]),\n\u001b[1;32m      7\u001b[0m     \u001b[38;5;124m'\u001b[39m\u001b[38;5;124mattention\u001b[39m\u001b[38;5;124m'\u001b[39m : np\u001b[38;5;241m.\u001b[39marray([\u001b[38;5;241m1\u001b[39m, \u001b[38;5;241m0\u001b[39m]),\n\u001b[1;32m      8\u001b[0m     \u001b[38;5;124m'\u001b[39m\u001b[38;5;124mmisc\u001b[39m\u001b[38;5;124m'\u001b[39m : np\u001b[38;5;241m.\u001b[39marray([\u001b[38;5;241m1\u001b[39m, \u001b[38;5;241m0\u001b[39m])\n\u001b[1;32m      9\u001b[0m     }\n\u001b[1;32m     11\u001b[0m parameters \u001b[38;5;241m=\u001b[39m Parameters(alpha \u001b[38;5;241m=\u001b[39m \u001b[38;5;241m0.1\u001b[39m, temperature \u001b[38;5;241m=\u001b[39m \u001b[38;5;241m1\u001b[39m)\n\u001b[1;32m     13\u001b[0m \u001b[38;5;66;03m## create your model here\u001b[39;00m\n",
      "\u001b[0;31mNameError\u001b[0m: name 'np' is not defined"
     ]
    }
   ],
   "source": [
    "## create a single trial as a dictionary\n",
    "\n",
    "trial = {\n",
    "    'values' : np.array([[0.5, 0.1], [0, 0.5]]),\n",
    "    'input' : np.array([0, 1]),\n",
    "    'feedback' : np.array([1]),\n",
    "    'attention' : np.array([1, 0]),\n",
    "    'misc' : np.array([1, 0])\n",
    "    }\n",
    "\n",
    "parameters = Parameters(alpha = 0.1, temperature = 1)\n",
    "\n",
    "## create your model here\n",
    "\n",
    "def model(parameters, trial):\n",
    "    stimulus = trial['input']\n",
    "    values = trial['values']\n",
    "    feedback = trial['feedback']\n",
    "    \n",
    "    \n"
   ]
  },
  {
   "cell_type": "markdown",
   "metadata": {},
   "source": [
    "This is a very simple model with some very simple components and output.\n",
    "We can also export some details about the model to learn what is going on under the hood.\n",
    "This is where we need to store all metadata as well (including bounds and priors - not yet implemented)."
   ]
  },
  {
   "cell_type": "code",
   "execution_count": 3,
   "metadata": {},
   "outputs": [
    {
     "data": {
      "text/plain": [
       "{'activation': 'Linear',\n",
       " 'decision': 'Softmax',\n",
       " 'learning': 'DeltaRule',\n",
       " 'shape': (2, 2),\n",
       " 'variables': 4}"
      ]
     },
     "execution_count": 3,
     "metadata": {},
     "output_type": "execute_result"
    }
   ],
   "source": [
    "costum.summary()"
   ]
  },
  {
   "cell_type": "markdown",
   "metadata": {},
   "source": [
    "This is neat. We can see that the model has 3 components, each with its own name and category.\n",
    "We also have the shape, which is the shape of the value/weight matrix, where rows are outcomes/actions and columns are stimuli.\n",
    "The variables are the number of internal variables the model calculates (I think that they are simply called parameters in Deep Learning as compared to hyperparameters like learning rate).\n",
    "\n",
    "Let's look at these variables."
   ]
  },
  {
   "cell_type": "code",
   "execution_count": 4,
   "metadata": {},
   "outputs": [
    {
     "name": "stdout",
     "output_type": "stream",
     "text": [
      "array([[0.5 , 0.04],\n",
      "       [0.  , 0.55]])\n"
     ]
    }
   ],
   "source": [
    "pp(costum.weights)"
   ]
  },
  {
   "cell_type": "markdown",
   "metadata": {},
   "source": [
    "It would not be a bad idea to have a function that prints out the model structure in a nice way, perhaps indented and with some nice ASCII stuff or maybe even visualize it.\n",
    "For now, this is enough I think.\n",
    "\n",
    "Another thing we can do is to export model components and their output to a dictionary."
   ]
  },
  {
   "cell_type": "code",
   "execution_count": 5,
   "metadata": {},
   "outputs": [
    {
     "name": "stdout",
     "output_type": "stream",
     "text": [
      "{\n",
      "    \"Linear\":\n",
      "        array([[0. , 0.1],\n",
      "       [0. , 0.5]]),\n",
      "    \"Softmax\"   : array([0.44283102, 0.55716898]),\n",
      "    \"DeltaRule\":\n",
      "        array([[0.5 , 0.04],\n",
      "       [0.  , 0.55]]),\n",
      "}\n"
     ]
    }
   ],
   "source": [
    "pp(costum.values)"
   ]
  },
  {
   "cell_type": "markdown",
   "metadata": {},
   "source": [
    "This is all great but we also need to be able to save the model to a file and load it back.\n",
    "This is currently not implemented, but the way we will do it is by using the `pickle` library."
   ]
  },
  {
   "cell_type": "code",
   "execution_count": 6,
   "metadata": {},
   "outputs": [
    {
     "name": "stdout",
     "output_type": "stream",
     "text": [
      "{\n",
      "    \"Linear\":\n",
      "        array([[0. , 0.1],\n",
      "       [0. , 0.5]]),\n",
      "    \"Softmax\"   : array([0.44283102, 0.55716898]),\n",
      "    \"DeltaRule\":\n",
      "        array([[0.5 , 0.04],\n",
      "       [0.  , 0.55]]),\n",
      "}\n"
     ]
    },
    {
     "data": {
      "text/plain": [
       "{'activation': 'Linear',\n",
       " 'decision': 'Softmax',\n",
       " 'learning': 'DeltaRule',\n",
       " 'shape': (2, 2),\n",
       " 'variables': 4}"
      ]
     },
     "execution_count": 6,
     "metadata": {},
     "output_type": "execute_result"
    }
   ],
   "source": [
    "import pickle as pkl\n",
    "\n",
    "pkl.dump(costum, open(\"mine.pkl\", \"wb\"))\n",
    "pickled_model = pkl.load(open(\"mine.pkl\", \"rb\"))\n",
    "\n",
    "pickled_model.policy\n",
    "pp(pickled_model.values)\n",
    "pickled_model.summary()"
   ]
  },
  {
   "cell_type": "markdown",
   "metadata": {},
   "source": [
    "### Run the model on data\n",
    "\n",
    "Let us start by defining some parameters.\n",
    "We will define them in a dictionary, which allows the Model and Wrapper classes to pull the parameters they need by name.\n",
    "So you don't have to create different objects for each model, you can simply input the same dictionary to all models and they will pull the parameters they need.\n",
    "You don't even need to subset them."
   ]
  },
  {
   "cell_type": "code",
   "execution_count": 7,
   "metadata": {},
   "outputs": [],
   "source": [
    "params = {  # define the parameters\n",
    "    \"alpha\": 0.25,\n",
    "    \"temperature\": 5,\n",
    "}"
   ]
  },
  {
   "cell_type": "markdown",
   "metadata": {},
   "source": [
    "The next bit will be defining the experiment. It will require a bit of explanations so here we go.\n",
    "\n",
    "The experiment is a dictionary that contains all the information about the experiment that the **model** needs to run.\n",
    "Some models will require more information than others, but the basic information is the same.\n",
    "\n",
    "- `trials`: It is a 2D array where the first dimension represents the trial and the second dimension represents for example in which order the stimuli is presented. If you have stimulus 2 and stimulus 3 presented on trial 1, then the first row will be `[2, 3]`. If you have stimulus 1 and stimulus 3 presented on trial 2, then the second row will be `[1, 3]`. This will look like `[[2, 3], [1, 3]]` This is the only thing that is required for all models.\n",
    "- `feedback`: It is (currently) a 1D array where the first dimension represents the trial and the value represents the feedback. If you have feedback 1 on trial 1 and feedback 0 on trial 2, then the array will be `[1, 0]`. This will look like `[1, 0]`. This is required for all models that have a learning component."
   ]
  },
  {
   "cell_type": "code",
   "execution_count": 8,
   "metadata": {},
   "outputs": [],
   "source": [
    "data = {\n",
    "        \"trials\": np.array([[2, 3], [1, 4], [3, 2], [4, 1], [2, 3], [2, 3], [1, 4], [3, 2], [4, 1], [2, 3]]),\n",
    "        \"feedback\": np.array([1, 2, 1, 2, 1, 1, 2, 1, 2, 1]),\n",
    "}"
   ]
  },
  {
   "cell_type": "markdown",
   "metadata": {},
   "source": [
    "The next bit that we can do is to use the `Wrapper` class to run the model on a single experiment.\n",
    "This object will take in the model, the parameters, and the experiment and will run the model on the experiment using the parameters."
   ]
  },
  {
   "cell_type": "code",
   "execution_count": 9,
   "metadata": {},
   "outputs": [
    {
     "name": "stdout",
     "output_type": "stream",
     "text": [
      "array([[0.5       , 0.5       ],\n",
      "       [0.5       , 0.5       ],\n",
      "       [0.69184987, 0.30815013],\n",
      "       [0.25478962, 0.74521038],\n",
      "       [0.86589453, 0.13410547],\n",
      "       [0.94655136, 0.05344864],\n",
      "       [0.11158493, 0.88841507],\n",
      "       [0.96622208, 0.03377792],\n",
      "       [0.03927633, 0.96072367],\n",
      "       [0.98442384, 0.01557616]])\n"
     ]
    }
   ],
   "source": [
    "complete = Wrapper(model = costum, data = data, params = params)\n",
    "## run the model\n",
    "complete.run()\n",
    "## print the policies: first dimension is the trial, second dimension is the action\n",
    "pp(complete.policies)"
   ]
  },
  {
   "cell_type": "markdown",
   "metadata": {},
   "source": [
    "Awesome.\n",
    "We can also use the export function to export the model output with the parameters to a dictionary.\n",
    "The main difference between `export()` and `summary()` is that in the long run `export()` will contain more metadata and will allow to export to a JSON file."
   ]
  },
  {
   "cell_type": "code",
   "execution_count": 10,
   "metadata": {},
   "outputs": [
    {
     "name": "stdout",
     "output_type": "stream",
     "text": [
      "{\n",
      "    \"weights\":\n",
      "        array([[-0.66503906,  1.00341797,  1.00341797, -0.66503906],\n",
      "       [ 0.82617188, -0.66503906, -0.66503906,  0.82617188]]),\n",
      "    \"policies\":\n",
      "        array([[0.5       , 0.5       ],\n",
      "       [0.5       , 0.5       ],\n",
      "       [0.69184987, 0.30815013],\n",
      "       [0.25478962, 0.74521038],\n",
      "       [0.86589453, 0.13410547],\n",
      "       [0.94655136, 0.05344864],\n",
      "       [0.11158493, 0.88841507],\n",
      "       [0.96622208, 0.03377792],\n",
      "       [0.03927633, 0.96072367],\n",
      "       [0.98442384, 0.01557616]]),\n",
      "    \"name\"  : \"Model_3\",\n",
      "    \"alpha\" : 0.25,\n",
      "    \"temperature\"   : 5,\n",
      "}\n"
     ]
    }
   ],
   "source": [
    "pp(complete.export())\n"
   ]
  },
  {
   "cell_type": "markdown",
   "metadata": {},
   "source": [
    "In addition, we can also reset the model and rerun everything.\n",
    "We could use the `Wrapper.reset()` function, that resets the weight/value matrices to the initial values.\n",
    "\n",
    "### Optimisation\n",
    "\n",
    "Now we have the model we want to use.\n",
    "Let's create some data to fit the model to."
   ]
  },
  {
   "cell_type": "code",
   "execution_count": 11,
   "metadata": {},
   "outputs": [],
   "source": [
    "experiment = []\n",
    "for i in range(100):\n",
    "    ppt = {\n",
    "        \"ppt\": i,\n",
    "        \"trials\": np.array([[2, 3], [1, 4], [3, 2], [4, 1], [2, 3], [2, 3], [1, 4], [3, 2], [4, 1], [2, 3]]),\n",
    "        \"feedback\": np.array([1, 2, 1, 2, 1, 1, 2, 1, 2, 1]),\n",
    "        \"observed\": np.array([[1, 0], [0, 1], [1, 0], [0, 1], [1, 0], [1, 0], [0, 1], [1, 0], [0, 1], [1, 0]]),\n",
    "    }\n",
    "    experiment.append(ppt)"
   ]
  },
  {
   "cell_type": "markdown",
   "metadata": {},
   "source": [
    "Compared to running the model on data, this is a bit more complicated.\n",
    "Here we need to create a list of dictionaries, where each dictionary represents a single experiment a.k.a. a single participant.\n",
    "Here I added two new key-value pairs to the experiment dictionary: `ppt` and `observed`.\n",
    "`ppt` is the participant ID and `observed` is the observed response on each trial.\n",
    "Here, I created it in the format the model outputs the policies: a 2D array where the first dimension represents the trial and the second dimension represents the action.\n",
    "So they are essentially ones and zeros, because participants make binary decisions.\n",
    "\n",
    "Okay, let's optimise the model.\n",
    "We will use the `Optimiser` class to do so, and will use an Evolutionary/genetic algorithm.\n",
    "The optimiser will take in the compiled model and wrapper, the data, and the bounds.\n",
    "Now, here the data will also include trial-level details, such as the stimuli and feedback."
   ]
  },
  {
   "cell_type": "code",
   "execution_count": 12,
   "metadata": {},
   "outputs": [
    {
     "name": "stdout",
     "output_type": "stream",
     "text": [
      "[\n",
      "    6.515827163061901,\n",
      "    6.5158271244268455,\n",
      "    6.515827108062389,\n",
      "    6.515827705239123,\n",
      "    6.515827380318675,\n",
      "    ...,\n",
      "    6.515827106152564,\n",
      "    6.515827128217762,\n",
      "    6.515827127860972,\n",
      "]\n"
     ]
    }
   ],
   "source": [
    "from cpm.optimisation import DifferentialEvolution, minimise\n",
    "\n",
    "lower = [1e-10, 1e-10]\n",
    "upper = [1, 10]\n",
    "bounds = list(zip(lower, upper))\n",
    "\n",
    "# NOTE: there is something strange going on here, but please ignore it for now, I am working on this\n",
    "Fit = DifferentialEvolution(\n",
    "    model = complete, bounds = bounds, data = experiment, minimisation=\"LogLikelihood\", mutation = 0.5, recombination = 0.7, strategy = \"best1bin\", tol = 0.001\n",
    ")\n",
    "## look at the NLL for a given set of parameters\n",
    "## I think there is some stuff going on with 0 values as well - but I ignored it for now\n",
    "Fit.minimise([0.60924690133760082, 5.6764639071806062])\n",
    "Fit.optimise()\n",
    "\n",
    "fittings = [item.get('fun') for item in Fit.fit]\n",
    "pp(fittings)"
   ]
  },
  {
   "cell_type": "markdown",
   "metadata": {},
   "source": [
    "We can also look at the best fitting parameters here.\n",
    "In principle, they should be the same because right new all participants are the same."
   ]
  },
  {
   "cell_type": "code",
   "execution_count": 13,
   "metadata": {},
   "outputs": [
    {
     "name": "stdout",
     "output_type": "stream",
     "text": [
      "[\n",
      "    {\"alpha\": 0.9782141614193606, \"temperature\": 9.720072217872392},\n",
      "    {\"alpha\": 0.9828259575097767, \"temperature\": 9.894280293634438},\n",
      "    {\"alpha\": 0.9945313730342429, \"temperature\": 9.918574881620373},\n",
      "    {\"alpha\": 0.8917925393088382, \"temperature\": 9.664475150611636},\n",
      "    {\"alpha\": 0.9412439573134206, \"temperature\": 9.523049257506653},\n",
      "    ...,\n",
      "    {\"alpha\": 0.9952600789232573, \"temperature\": 9.932972013125273},\n",
      "    {\"alpha\": 0.9917801261701963, \"temperature\": 9.782172056665761},\n",
      "    {\"alpha\": 0.9983492064006564, \"temperature\": 9.802584521303281},\n",
      "]\n"
     ]
    }
   ],
   "source": [
    "pp(Fit.parameters)"
   ]
  },
  {
   "cell_type": "markdown",
   "metadata": {},
   "source": [
    "This is great, so noew we can run the model on the best fitting parameters and see how it looks like.\n",
    "We can use the `Simulator` class to do that, which takes in the data as defined above a list of dictionaries for the parameter.\n",
    "I know that the Simulator was used a bit differently in what we outlined in the Engineering Document, but I think that this is still okay for now."
   ]
  },
  {
   "cell_type": "code",
   "execution_count": 14,
   "metadata": {},
   "outputs": [],
   "source": [
    "from cpm.models import Simulator\n",
    "\n",
    "explore = Simulator(model = complete, data = experiment, parameters = Fit.parameters)\n",
    "explore.run()\n"
   ]
  },
  {
   "cell_type": "markdown",
   "metadata": {},
   "source": [
    "Let's look at the output.\n",
    "We can simply export all the policies and "
   ]
  },
  {
   "cell_type": "code",
   "execution_count": 15,
   "metadata": {},
   "outputs": [
    {
     "name": "stdout",
     "output_type": "stream",
     "text": [
      "array([[[5.00000000e-01, 5.00000000e-01],\n",
      "        [5.00000000e-01, 5.00000000e-01],\n",
      "        [9.99851569e-01, 1.48431381e-04],\n",
      "        ...,\n",
      "        [1.00000000e+00, 1.54786836e-17],\n",
      "        [1.08475643e-06, 9.99998915e-01],\n",
      "        [9.99999995e-01, 4.65645186e-09]],\n",
      "\n",
      "       [[5.00000000e-01, 5.00000000e-01],\n",
      "        [5.00000000e-01, 5.00000000e-01],\n",
      "        [9.99880404e-01, 1.19596410e-04],\n",
      "        ...,\n",
      "        [1.00000000e+00, 7.24610874e-18],\n",
      "        [1.87603332e-06, 9.99998124e-01],\n",
      "        [9.99999980e-01, 2.04926806e-08]],\n",
      "\n",
      "       [[5.00000000e-01, 5.00000000e-01],\n",
      "        [5.00000000e-01, 5.00000000e-01],\n",
      "        [9.99896023e-01, 1.03976807e-04],\n",
      "        ...,\n",
      "        [1.00000000e+00, 5.95308960e-18],\n",
      "        [1.62256872e-05, 9.99983774e-01],\n",
      "        [9.99996200e-01, 3.79952629e-06]],\n",
      "\n",
      "       ...,\n",
      "\n",
      "       [[5.00000000e-01, 5.00000000e-01],\n",
      "        [5.00000000e-01, 5.00000000e-01],\n",
      "        [9.99898240e-01, 1.01759743e-04],\n",
      "        ...,\n",
      "        [1.00000000e+00, 5.60381842e-18],\n",
      "        [1.84571855e-05, 9.99981543e-01],\n",
      "        [9.99994544e-01, 5.45583823e-06]],\n",
      "\n",
      "       [[5.00000000e-01, 5.00000000e-01],\n",
      "        [5.00000000e-01, 5.00000000e-01],\n",
      "        [9.99877671e-01, 1.22328542e-04],\n",
      "        ...,\n",
      "        [1.00000000e+00, 1.04192823e-17],\n",
      "        [1.11168397e-05, 9.99988883e-01],\n",
      "        [9.99998808e-01, 1.19235913e-06]],\n",
      "\n",
      "       [[5.00000000e-01, 5.00000000e-01],\n",
      "        [5.00000000e-01, 5.00000000e-01],\n",
      "        [9.99887597e-01, 1.12402552e-04],\n",
      "        ...,\n",
      "        [1.00000000e+00, 9.36760084e-18],\n",
      "        [3.94736530e-05, 9.99960526e-01],\n",
      "        [9.99962715e-01, 3.72849093e-05]]])\n"
     ]
    }
   ],
   "source": [
    "pp(explore.policies())"
   ]
  },
  {
   "cell_type": "markdown",
   "metadata": {},
   "source": [
    "### Evaluation\n",
    "\n",
    "Alright, let us now try to do some parameter recovery.\n",
    "There is less and less thing to explain now, so I will just go through it quickly.\n",
    "\n",
    "We will use the `ParameterRecovery` class to do so.\n",
    "This will take in the Wrapper, the optimiser, the strategy, bounds, and iterations."
   ]
  },
  {
   "cell_type": "code",
   "execution_count": 19,
   "metadata": {},
   "outputs": [],
   "source": [
    "from cpm.evaluation import ParameterRecovery\n",
    "\n",
    "\n",
    "new = Simulator(model = complete, data = experiment, parameters = Fit.parameters)\n",
    "\n",
    "recover = ParameterRecovery(\n",
    "    model = new, strategy = \"grid\",\n",
    "    optimiser = \"DifferentialEvolution\", \n",
    "    minimasation=\"LogLikelihood\",\n",
    "    bounds = bounds, iteration = 1\n",
    "    )\n",
    "\n",
    "recover.recover()"
   ]
  },
  {
   "cell_type": "markdown",
   "metadata": {},
   "source": [
    "Okay, that was fairly quick.\n",
    "Let's look at the results for the learning rate, which we can simply extract from the `ParameterRecovery` object.\n",
    "NOTE that the model will have bad performance, but let's ignore that for now and focus on functionalities."
   ]
  },
  {
   "cell_type": "code",
   "execution_count": 20,
   "metadata": {},
   "outputs": [
    {
     "data": {
      "image/png": "[encoded data removed]",
      "text/plain": [
       "<Figure size 640x480 with 1 Axes>"
      ]
     },
     "metadata": {},
     "output_type": "display_data"
    }
   ],
   "source": [
    "import matplotlib.pyplot as plt\n",
    "\n",
    "alpha = recover.extract(key = 'alpha')\n",
    "\n",
    "recovered = np.asarray(alpha[:, 0, :]).flatten()\n",
    "original = np.asarray(alpha[:, 1, :]).flatten()\n",
    "\n",
    "plt.scatter(recovered, original)\n",
    "plt.show()"
   ]
  },
  {
   "cell_type": "markdown",
   "metadata": {},
   "source": [
    "## The END\n",
    "\n",
    "That's it for now.\n",
    "There are some things that don't work as expected, but I am actively looking into them.\n",
    "I think the biggest challenge was the modular aspect of the toolbox, but I think that it is working quite well now."
   ]
  }
 ],
 "metadata": {
  "kernelspec": {
   "display_name": "Python 3",
   "language": "python",
   "name": "python3"
  },
  "language_info": {
   "codemirror_mode": {
    "name": "ipython",
    "version": 3
   },
   "file_extension": ".py",
   "mimetype": "text/x-python",
   "name": "python",
   "nbconvert_exporter": "python",
   "pygments_lexer": "ipython3",
   "version": "3.11.6"
  }
 },
 "nbformat": 4,
 "nbformat_minor": 2
}
